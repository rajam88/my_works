{
  "nbformat": 4,
  "nbformat_minor": 0,
  "metadata": {
    "colab": {
      "name": "googlesearch.ipynb",
      "provenance": [],
      "collapsed_sections": []
    },
    "kernelspec": {
      "name": "python3",
      "display_name": "Python 3"
    },
    "language_info": {
      "name": "python"
    }
  },
  "cells": [
    {
      "cell_type": "code",
      "metadata": {
        "colab": {
          "base_uri": "https://localhost:8080/"
        },
        "id": "neKXzxj3i-uR",
        "outputId": "99631642-ba57-4653-a1ab-2d6a59971c69"
      },
      "source": [
        "import requests\n",
        "import json\n",
        "URL = \"https://geocode.search.hereapi.com/v1/geocode\"\n",
        "location = input(\"Enter the location here: \") \n",
        "\n",
        "__api_key='jmfj1sE9OLUa7I2893mzr91bVCfybMNjkH9Pb_JHdy4'\n",
        "PARAMS = {'apikey':api_key,'q':location} \n",
        "\n",
        "r = requests.get(url = URL, params = PARAMS) \n",
        "data = r.json()\n",
        "\n",
        "latitude = data['items'][0]['position']['lat']\n",
        "longitude = data['items'][0]['position']['lng']\n",
        "print(latitude, longitude)"
      ],
      "execution_count": 22,
      "outputs": [
        {
          "output_type": "stream",
          "text": [
            "Enter the location here: mumbai\n",
            "19.14045 72.88235\n"
          ],
          "name": "stdout"
        }
      ]
    }
  ]
}