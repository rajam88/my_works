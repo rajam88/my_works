{
  "nbformat": 4,
  "nbformat_minor": 0,
  "metadata": {
    "colab": {
      "name": "capstone_Auto_insurance.ipynb",
      "provenance": []
    },
    "kernelspec": {
      "name": "python3",
      "display_name": "Python 3"
    },
    "language_info": {
      "name": "python"
    },
    "accelerator": "GPU"
  },
  "cells": [
    {
      "cell_type": "markdown",
      "source": [
        "**ML Model for Auto Insurance Industry¶**\n",
        "Aim of the Project:-\n",
        "The aim of the project is to build a Machine Learning Model to predict whether an owner will initiate an auto insurance claim in the next year."
      ],
      "metadata": {
        "id": "RWEuVE78f9Ff"
      }
    },
    {
      "cell_type": "markdown",
      "source": [
        "Background:-\n",
        "The auto insurance industry is witnessing a paradigm shift. Since auto insurance company consists of homogenous good thereby making it difficult to differentiate product A from product B, also companies are fighting a price war (for insurance price). On top of that, the distribution channel is shifting more from traditional insurance brokers to online purchases, which means that the ability for companies to interact through human touchpoints is limited, and customers should be quoted at a reasonable price. A good price quote is one that makes the customer purchase the policy and helps the company to increase the profits. Also, the insurance premium is calculated based on more than 50+ parameters, which means that traditional business analytics-based algorithms are now limited in their ability to differentiate among customers based on subtle parameters.\n",
        "\n",
        "The model shall mainly support the following use cases:\n",
        "\n",
        "1. Conquering Market Share: Capture market share by lowering the prices of the premium for the customers, who are least likely to claim.\n",
        "\n",
        "2. Risk Management: Charge the right premium from the customer, who is likely to claim insurance in the coming year\n",
        "\n",
        "3. Smooth Processing: Reduce the complexity of pricing models. Most of the transactions are happening online with larger customer attributes (thanks to the internet and social media). Harness the power of huge data to build complex ML models\n",
        "\n",
        "4. Increased Profits: As per industry estimate 1% reduction in the claim can boost profit by 10%. So, through the ML model, we can identify and deny the insurance to the driver who will make a claim. Thus, ensuring reduced claim outgo and increased profit.\n",
        "\n",
        "Part of the model development is to identify and prioritize the above use cases.\n",
        "\n"
      ],
      "metadata": {
        "id": "_gYHWl5RgJRO"
      }
    },
    {
      "cell_type": "markdown",
      "source": [
        "Importing required libraries"
      ],
      "metadata": {
        "id": "5gq6YtWegfIt"
      }
    },
    {
      "cell_type": "code",
      "source": [
        "import pandas as pd\n",
        "import numpy as np\n",
        "from datetime import datetime\n",
        "from sklearn.linear_model import LogisticRegression\n",
        "from sklearn import svm\n",
        "from sklearn.model_selection import RandomizedSearchCV, GridSearchCV\n",
        "from xgboost import XGBClassifier\n",
        "import xgboost as xgb\n",
        "from sklearn.ensemble import RandomForestClassifier\n",
        "from sklearn.ensemble import AdaBoostClassifier\n",
        "from sklearn.neural_network import MLPClassifier\n",
        "from sklearn import metrics\n",
        "from sklearn.metrics import confusion_matrix,mean_squared_error,accuracy_score\n",
        "from sklearn.metrics import precision_score,recall_score,roc_auc_score,f1_score,cohen_kappa_score\n",
        "from sklearn.utils import resample\n",
        "from pprint import pprint\n",
        "\n",
        "import plotly as py\n",
        "import plotly.graph_objs as go\n",
        "import matplotlib.pyplot as plt\n",
        "import seaborn as sns\n",
        "import math\n",
        "from IPython.display import Markdown, display\n",
        "import statsmodels.api as sm # import API\n",
        "from matplotlib.pyplot import xticks\n",
        "\n",
        "sns.set(style=\"whitegrid\")\n",
        "pd.set_option('display.max_columns', 100)\n",
        "py.offline.init_notebook_mode(connected=True)\n",
        "pd.options.display.float_format = '{:20,.2f}'.format \n",
        "import warnings\n",
        "warnings.filterwarnings('ignore')\n",
        "%matplotlib inline"
      ],
      "metadata": {
        "colab": {
          "base_uri": "https://localhost:8080/",
          "height": 86
        },
        "id": "1GFoTY0Rgtxt",
        "outputId": "2a4726ee-2e2c-4bda-bcf6-1ac977625969"
      },
      "execution_count": 1,
      "outputs": [
        {
          "output_type": "stream",
          "name": "stderr",
          "text": [
            "/usr/local/lib/python3.7/dist-packages/statsmodels/tools/_testing.py:19: FutureWarning:\n",
            "\n",
            "pandas.util.testing is deprecated. Use the functions in the public API at pandas.testing instead.\n",
            "\n"
          ]
        },
        {
          "output_type": "display_data",
          "data": {
            "text/html": [
              "        <script type=\"text/javascript\">\n",
              "        window.PlotlyConfig = {MathJaxConfig: 'local'};\n",
              "        if (window.MathJax) {MathJax.Hub.Config({SVG: {font: \"STIX-Web\"}});}\n",
              "        if (typeof require !== 'undefined') {\n",
              "        require.undef(\"plotly\");\n",
              "        requirejs.config({\n",
              "            paths: {\n",
              "                'plotly': ['https://cdn.plot.ly/plotly-latest.min']\n",
              "            }\n",
              "        });\n",
              "        require(['plotly'], function(Plotly) {\n",
              "            window._Plotly = Plotly;\n",
              "        });\n",
              "        }\n",
              "        </script>\n",
              "        "
            ]
          },
          "metadata": {}
        }
      ]
    },
    {
      "cell_type": "markdown",
      "source": [
        "Functions"
      ],
      "metadata": {
        "id": "QQv6XWCQh_6a"
      }
    },
    {
      "cell_type": "code",
      "source": [
        "def log(string):\n",
        "    display(Markdown(\"> <span style='color:blue'>\"+string+\"</span>\"))\n",
        "\n",
        "def header(string):\n",
        "    display(Markdown(\"------ \"))\n",
        "    display(Markdown(\"### \"+string))\n",
        "\n",
        "def get_variable_type(element) :\n",
        "    \"\"\"\n",
        "     Check is columns are of Continuous or Categorical variable.\n",
        "     Assumption is that if \n",
        "                 unique count < 20 then categorical \n",
        "                 unique count >= 20 and dtype = [int64 or float64] then continuous\n",
        "     \"\"\"\n",
        "    if element==0:\n",
        "        return \"Not Known\"\n",
        "    elif element < 20 and element!=0 :\n",
        "        return \"Categorical\"\n",
        "    elif element >= 20 and element!=0 :\n",
        "        return \"Contineous\"\n",
        "def predict_variable_type(metadata_matrix):\n",
        "    metadata_matrix[\"Variable_Type\"] = metadata_matrix[\"Unique_Values_Count\"].apply(get_variable_type).astype(str)\n",
        "    metadata_matrix[\"frequency\"] = metadata_matrix[\"Null_Count\"] - metadata_matrix[\"Null_Count\"]\n",
        "    metadata_matrix[\"frequency\"].astype(int)\n",
        "    return metadata_matrix \n",
        "\n",
        "def get_meta_data(dataframe) :\n",
        "    \"\"\"\n",
        "     Method to get Meta-Data about any dataframe passed \n",
        "    \"\"\"\n",
        "    metadata_matrix = pd.DataFrame({\n",
        "                    'Datatype' : dataframe.dtypes.astype(str), # data types of columns\n",
        "                    'Non_Null_Count': dataframe.count(axis = 0).astype(int), # total elements in columns\n",
        "                    'Null_Count': dataframe.isnull().sum().astype(int), # total null values in columns\n",
        "                    'Null_Percentage': dataframe.isnull().sum()/len(dataframe) * 100, # percentage of null values\n",
        "                    'Unique_Values_Count': dataframe.nunique().astype(int) # number of unique values\n",
        "                     })\n",
        "    \n",
        "    metadata_matrix = predict_variable_type(metadata_matrix)\n",
        "    return metadata_matrix\n",
        "\n",
        "\n",
        "def plot_data_pie_chat(dataframe,col) : \n",
        "    header(\"Stats for \"+col+\" Datatype Percentage Distribution\")\n",
        "    dataframe_group = dataframe.groupby(col).frequency.count().reset_index()\n",
        "    dataframe_group.sort_values([col], axis=0,ascending=False, inplace=True)\n",
        "    trace = go.Pie(labels=dataframe_group[col].tolist(), values=dataframe_group[\"frequency\"].tolist())\n",
        "    layout = go.Layout(title=\"Datatype Percentage Distribution\")\n",
        "    fig = go.Figure(data=[trace], layout=layout)    \n",
        "    py.offline.iplot(fig)\n",
        "\n",
        "def pairplot(x_axis,y_axis) :\n",
        "    sns.pairplot(car_df,x_vars=x_axis,y_vars=y_axis,height=4,aspect=1,kind=\"scatter\")\n",
        "    plt.show()\n",
        "\n",
        "def heatmap(x,y,dataframe):\n",
        "    plt.figure(figsize=(x,y))\n",
        "    sns.heatmap(dataframe.corr(),cmap=\"OrRd\",annot=True)\n",
        "    plt.show()\n",
        "\n",
        "def bar_count_plot(dataframe,col_name) :\n",
        "    plt.figure(figsize=(16,8))\n",
        "    plt.title(col_name + 'Histogram')\n",
        "    sns.countplot(dataframe[col_name], palette=(\"plasma\"))\n",
        "    xticks(rotation = 90)\n",
        "    plt.show()\n",
        "\n",
        "def color_red(val):\n",
        "    \"\"\"\n",
        "    Takes a scalar and returns a string with\n",
        "    the css property `'color: red'` for value \n",
        "    greater than 10 , black otherwise.\n",
        "    \"\"\"\n",
        "    color = 'red' if val > 5 else 'black'\n",
        "    return 'color: %s' % color\n",
        "\n",
        "def accuracy_result(y_test, y_pred_test):\n",
        "    from sklearn import metrics\n",
        "    from sklearn.metrics import confusion_matrix, classification_report\n",
        "    confusion_matrix=metrics.confusion_matrix(y_test, y_pred_test)\n",
        "    # USE THE IMPORTED CONFUSION MATRIX\n",
        "    print('\\n CONFUSION MATRIX:\\n ', confusion_matrix,'\\n')\n",
        "    TP = confusion_matrix[1, 1]\n",
        "    TN = confusion_matrix[0, 0]\n",
        "    FP = confusion_matrix[0, 1]\n",
        "    FN = confusion_matrix[1, 0]\n",
        "    false_positive_rate = round(FP / float(TN + FP),3)\n",
        "    print('FPR: ', false_positive_rate)\n",
        "    print('TPR/ RECALL/ SENSTIVITY: ', round(metrics.recall_score(y_test, y_pred_test), 3))\n",
        "    print('PRECISION:' ,round(metrics.precision_score(y_test, y_pred_test), 3))\n",
        "    specificity = round(TN / (TN + FP),3)\n",
        "    print('SPECIFICITY: ',specificity)\n",
        "    print('ACCURACY: ', np.round(metrics.accuracy_score(y_test, y_pred_test),3))\n",
        "    print('ROC AUC: ', np.round(roc_auc_score(y_test, y_pred_test),3))\n",
        "    print('Cohens kappa: ',np.round(cohen_kappa_score(y_test, y_pred_test),3))\n",
        "    print('F1 score: ', np.round(f1_score(y_test, y_pred_test),3))\n",
        "    print('\\n CLASSIFICATION REPORT: \\n',classification_report(y_test,y_pred_test))\n",
        "    return \n"
      ],
      "metadata": {
        "id": "ZIA0CkrGg2-V"
      },
      "execution_count": 2,
      "outputs": []
    },
    {
      "cell_type": "markdown",
      "source": [
        "## **Dataset**\n"
      ],
      "metadata": {
        "id": "3xhiR8Ask-fV"
      }
    },
    {
      "cell_type": "code",
      "source": [
        "df = pd.read_csv('/content/train(1).csv')\n",
        "df1= df.copy()\n",
        "df.head()"
      ],
      "metadata": {
        "colab": {
          "base_uri": "https://localhost:8080/",
          "height": 270
        },
        "id": "7QmPb3i_k3jj",
        "outputId": "6b943a4e-96ac-4ba8-e780-7a39c629a698"
      },
      "execution_count": 3,
      "outputs": [
        {
          "output_type": "execute_result",
          "data": {
            "text/html": [
              "\n",
              "  <div id=\"df-88876c8d-7a7a-4e51-930b-307f333ec856\">\n",
              "    <div class=\"colab-df-container\">\n",
              "      <div>\n",
              "<style scoped>\n",
              "    .dataframe tbody tr th:only-of-type {\n",
              "        vertical-align: middle;\n",
              "    }\n",
              "\n",
              "    .dataframe tbody tr th {\n",
              "        vertical-align: top;\n",
              "    }\n",
              "\n",
              "    .dataframe thead th {\n",
              "        text-align: right;\n",
              "    }\n",
              "</style>\n",
              "<table border=\"1\" class=\"dataframe\">\n",
              "  <thead>\n",
              "    <tr style=\"text-align: right;\">\n",
              "      <th></th>\n",
              "      <th>id</th>\n",
              "      <th>target</th>\n",
              "      <th>ps_ind_01</th>\n",
              "      <th>ps_ind_02_cat</th>\n",
              "      <th>ps_ind_03</th>\n",
              "      <th>ps_ind_04_cat</th>\n",
              "      <th>ps_ind_05_cat</th>\n",
              "      <th>ps_ind_06_bin</th>\n",
              "      <th>ps_ind_07_bin</th>\n",
              "      <th>ps_ind_08_bin</th>\n",
              "      <th>ps_ind_09_bin</th>\n",
              "      <th>ps_ind_10_bin</th>\n",
              "      <th>ps_ind_11_bin</th>\n",
              "      <th>ps_ind_12_bin</th>\n",
              "      <th>ps_ind_13_bin</th>\n",
              "      <th>ps_ind_14</th>\n",
              "      <th>ps_ind_15</th>\n",
              "      <th>ps_ind_16_bin</th>\n",
              "      <th>ps_ind_17_bin</th>\n",
              "      <th>ps_ind_18_bin</th>\n",
              "      <th>ps_reg_01</th>\n",
              "      <th>ps_reg_02</th>\n",
              "      <th>ps_reg_03</th>\n",
              "      <th>ps_car_01_cat</th>\n",
              "      <th>ps_car_02_cat</th>\n",
              "      <th>ps_car_03_cat</th>\n",
              "      <th>ps_car_04_cat</th>\n",
              "      <th>ps_car_05_cat</th>\n",
              "      <th>ps_car_06_cat</th>\n",
              "      <th>ps_car_07_cat</th>\n",
              "      <th>ps_car_08_cat</th>\n",
              "      <th>ps_car_09_cat</th>\n",
              "      <th>ps_car_10_cat</th>\n",
              "      <th>ps_car_11_cat</th>\n",
              "      <th>ps_car_11</th>\n",
              "      <th>ps_car_12</th>\n",
              "      <th>ps_car_13</th>\n",
              "      <th>ps_car_14</th>\n",
              "      <th>ps_car_15</th>\n",
              "      <th>ps_calc_01</th>\n",
              "      <th>ps_calc_02</th>\n",
              "      <th>ps_calc_03</th>\n",
              "      <th>ps_calc_04</th>\n",
              "      <th>ps_calc_05</th>\n",
              "      <th>ps_calc_06</th>\n",
              "      <th>ps_calc_07</th>\n",
              "      <th>ps_calc_08</th>\n",
              "      <th>ps_calc_09</th>\n",
              "      <th>ps_calc_10</th>\n",
              "      <th>ps_calc_11</th>\n",
              "      <th>ps_calc_12</th>\n",
              "      <th>ps_calc_13</th>\n",
              "      <th>ps_calc_14</th>\n",
              "      <th>ps_calc_15_bin</th>\n",
              "      <th>ps_calc_16_bin</th>\n",
              "      <th>ps_calc_17_bin</th>\n",
              "      <th>ps_calc_18_bin</th>\n",
              "      <th>ps_calc_19_bin</th>\n",
              "      <th>ps_calc_20_bin</th>\n",
              "    </tr>\n",
              "  </thead>\n",
              "  <tbody>\n",
              "    <tr>\n",
              "      <th>0</th>\n",
              "      <td>7</td>\n",
              "      <td>0</td>\n",
              "      <td>2</td>\n",
              "      <td>2</td>\n",
              "      <td>5</td>\n",
              "      <td>1</td>\n",
              "      <td>0</td>\n",
              "      <td>0</td>\n",
              "      <td>1</td>\n",
              "      <td>0</td>\n",
              "      <td>0</td>\n",
              "      <td>0</td>\n",
              "      <td>0</td>\n",
              "      <td>0</td>\n",
              "      <td>0</td>\n",
              "      <td>0</td>\n",
              "      <td>11</td>\n",
              "      <td>0</td>\n",
              "      <td>1</td>\n",
              "      <td>0</td>\n",
              "      <td>0.70</td>\n",
              "      <td>0.20</td>\n",
              "      <td>0.72</td>\n",
              "      <td>10</td>\n",
              "      <td>1</td>\n",
              "      <td>-1</td>\n",
              "      <td>0</td>\n",
              "      <td>1</td>\n",
              "      <td>4</td>\n",
              "      <td>1</td>\n",
              "      <td>0</td>\n",
              "      <td>0</td>\n",
              "      <td>1</td>\n",
              "      <td>12</td>\n",
              "      <td>2</td>\n",
              "      <td>0.40</td>\n",
              "      <td>0.88</td>\n",
              "      <td>0.37</td>\n",
              "      <td>3.61</td>\n",
              "      <td>0.60</td>\n",
              "      <td>0.50</td>\n",
              "      <td>0.20</td>\n",
              "      <td>3</td>\n",
              "      <td>1</td>\n",
              "      <td>10</td>\n",
              "      <td>1</td>\n",
              "      <td>10</td>\n",
              "      <td>1</td>\n",
              "      <td>5</td>\n",
              "      <td>9</td>\n",
              "      <td>1</td>\n",
              "      <td>5</td>\n",
              "      <td>8</td>\n",
              "      <td>0</td>\n",
              "      <td>1</td>\n",
              "      <td>1</td>\n",
              "      <td>0</td>\n",
              "      <td>0</td>\n",
              "      <td>1</td>\n",
              "    </tr>\n",
              "    <tr>\n",
              "      <th>1</th>\n",
              "      <td>9</td>\n",
              "      <td>0</td>\n",
              "      <td>1</td>\n",
              "      <td>1</td>\n",
              "      <td>7</td>\n",
              "      <td>0</td>\n",
              "      <td>0</td>\n",
              "      <td>0</td>\n",
              "      <td>0</td>\n",
              "      <td>1</td>\n",
              "      <td>0</td>\n",
              "      <td>0</td>\n",
              "      <td>0</td>\n",
              "      <td>0</td>\n",
              "      <td>0</td>\n",
              "      <td>0</td>\n",
              "      <td>3</td>\n",
              "      <td>0</td>\n",
              "      <td>0</td>\n",
              "      <td>1</td>\n",
              "      <td>0.80</td>\n",
              "      <td>0.40</td>\n",
              "      <td>0.77</td>\n",
              "      <td>11</td>\n",
              "      <td>1</td>\n",
              "      <td>-1</td>\n",
              "      <td>0</td>\n",
              "      <td>-1</td>\n",
              "      <td>11</td>\n",
              "      <td>1</td>\n",
              "      <td>1</td>\n",
              "      <td>2</td>\n",
              "      <td>1</td>\n",
              "      <td>19</td>\n",
              "      <td>3</td>\n",
              "      <td>0.32</td>\n",
              "      <td>0.62</td>\n",
              "      <td>0.39</td>\n",
              "      <td>2.45</td>\n",
              "      <td>0.30</td>\n",
              "      <td>0.10</td>\n",
              "      <td>0.30</td>\n",
              "      <td>2</td>\n",
              "      <td>1</td>\n",
              "      <td>9</td>\n",
              "      <td>5</td>\n",
              "      <td>8</td>\n",
              "      <td>1</td>\n",
              "      <td>7</td>\n",
              "      <td>3</td>\n",
              "      <td>1</td>\n",
              "      <td>1</td>\n",
              "      <td>9</td>\n",
              "      <td>0</td>\n",
              "      <td>1</td>\n",
              "      <td>1</td>\n",
              "      <td>0</td>\n",
              "      <td>1</td>\n",
              "      <td>0</td>\n",
              "    </tr>\n",
              "    <tr>\n",
              "      <th>2</th>\n",
              "      <td>13</td>\n",
              "      <td>0</td>\n",
              "      <td>5</td>\n",
              "      <td>4</td>\n",
              "      <td>9</td>\n",
              "      <td>1</td>\n",
              "      <td>0</td>\n",
              "      <td>0</td>\n",
              "      <td>0</td>\n",
              "      <td>1</td>\n",
              "      <td>0</td>\n",
              "      <td>0</td>\n",
              "      <td>0</td>\n",
              "      <td>0</td>\n",
              "      <td>0</td>\n",
              "      <td>0</td>\n",
              "      <td>12</td>\n",
              "      <td>1</td>\n",
              "      <td>0</td>\n",
              "      <td>0</td>\n",
              "      <td>0.00</td>\n",
              "      <td>0.00</td>\n",
              "      <td>-1.00</td>\n",
              "      <td>7</td>\n",
              "      <td>1</td>\n",
              "      <td>-1</td>\n",
              "      <td>0</td>\n",
              "      <td>-1</td>\n",
              "      <td>14</td>\n",
              "      <td>1</td>\n",
              "      <td>1</td>\n",
              "      <td>2</td>\n",
              "      <td>1</td>\n",
              "      <td>60</td>\n",
              "      <td>1</td>\n",
              "      <td>0.32</td>\n",
              "      <td>0.64</td>\n",
              "      <td>0.35</td>\n",
              "      <td>3.32</td>\n",
              "      <td>0.50</td>\n",
              "      <td>0.70</td>\n",
              "      <td>0.10</td>\n",
              "      <td>2</td>\n",
              "      <td>2</td>\n",
              "      <td>9</td>\n",
              "      <td>1</td>\n",
              "      <td>8</td>\n",
              "      <td>2</td>\n",
              "      <td>7</td>\n",
              "      <td>4</td>\n",
              "      <td>2</td>\n",
              "      <td>7</td>\n",
              "      <td>7</td>\n",
              "      <td>0</td>\n",
              "      <td>1</td>\n",
              "      <td>1</td>\n",
              "      <td>0</td>\n",
              "      <td>1</td>\n",
              "      <td>0</td>\n",
              "    </tr>\n",
              "    <tr>\n",
              "      <th>3</th>\n",
              "      <td>16</td>\n",
              "      <td>0</td>\n",
              "      <td>0</td>\n",
              "      <td>1</td>\n",
              "      <td>2</td>\n",
              "      <td>0</td>\n",
              "      <td>0</td>\n",
              "      <td>1</td>\n",
              "      <td>0</td>\n",
              "      <td>0</td>\n",
              "      <td>0</td>\n",
              "      <td>0</td>\n",
              "      <td>0</td>\n",
              "      <td>0</td>\n",
              "      <td>0</td>\n",
              "      <td>0</td>\n",
              "      <td>8</td>\n",
              "      <td>1</td>\n",
              "      <td>0</td>\n",
              "      <td>0</td>\n",
              "      <td>0.90</td>\n",
              "      <td>0.20</td>\n",
              "      <td>0.58</td>\n",
              "      <td>7</td>\n",
              "      <td>1</td>\n",
              "      <td>0</td>\n",
              "      <td>0</td>\n",
              "      <td>1</td>\n",
              "      <td>11</td>\n",
              "      <td>1</td>\n",
              "      <td>1</td>\n",
              "      <td>3</td>\n",
              "      <td>1</td>\n",
              "      <td>104</td>\n",
              "      <td>1</td>\n",
              "      <td>0.37</td>\n",
              "      <td>0.54</td>\n",
              "      <td>0.29</td>\n",
              "      <td>2.00</td>\n",
              "      <td>0.60</td>\n",
              "      <td>0.90</td>\n",
              "      <td>0.10</td>\n",
              "      <td>2</td>\n",
              "      <td>4</td>\n",
              "      <td>7</td>\n",
              "      <td>1</td>\n",
              "      <td>8</td>\n",
              "      <td>4</td>\n",
              "      <td>2</td>\n",
              "      <td>2</td>\n",
              "      <td>2</td>\n",
              "      <td>4</td>\n",
              "      <td>9</td>\n",
              "      <td>0</td>\n",
              "      <td>0</td>\n",
              "      <td>0</td>\n",
              "      <td>0</td>\n",
              "      <td>0</td>\n",
              "      <td>0</td>\n",
              "    </tr>\n",
              "    <tr>\n",
              "      <th>4</th>\n",
              "      <td>17</td>\n",
              "      <td>0</td>\n",
              "      <td>0</td>\n",
              "      <td>2</td>\n",
              "      <td>0</td>\n",
              "      <td>1</td>\n",
              "      <td>0</td>\n",
              "      <td>1</td>\n",
              "      <td>0</td>\n",
              "      <td>0</td>\n",
              "      <td>0</td>\n",
              "      <td>0</td>\n",
              "      <td>0</td>\n",
              "      <td>0</td>\n",
              "      <td>0</td>\n",
              "      <td>0</td>\n",
              "      <td>9</td>\n",
              "      <td>1</td>\n",
              "      <td>0</td>\n",
              "      <td>0</td>\n",
              "      <td>0.70</td>\n",
              "      <td>0.60</td>\n",
              "      <td>0.84</td>\n",
              "      <td>11</td>\n",
              "      <td>1</td>\n",
              "      <td>-1</td>\n",
              "      <td>0</td>\n",
              "      <td>-1</td>\n",
              "      <td>14</td>\n",
              "      <td>1</td>\n",
              "      <td>1</td>\n",
              "      <td>2</td>\n",
              "      <td>1</td>\n",
              "      <td>82</td>\n",
              "      <td>3</td>\n",
              "      <td>0.32</td>\n",
              "      <td>0.57</td>\n",
              "      <td>0.37</td>\n",
              "      <td>2.00</td>\n",
              "      <td>0.40</td>\n",
              "      <td>0.60</td>\n",
              "      <td>0.00</td>\n",
              "      <td>2</td>\n",
              "      <td>2</td>\n",
              "      <td>6</td>\n",
              "      <td>3</td>\n",
              "      <td>10</td>\n",
              "      <td>2</td>\n",
              "      <td>12</td>\n",
              "      <td>3</td>\n",
              "      <td>1</td>\n",
              "      <td>1</td>\n",
              "      <td>3</td>\n",
              "      <td>0</td>\n",
              "      <td>0</td>\n",
              "      <td>0</td>\n",
              "      <td>1</td>\n",
              "      <td>1</td>\n",
              "      <td>0</td>\n",
              "    </tr>\n",
              "  </tbody>\n",
              "</table>\n",
              "</div>\n",
              "      <button class=\"colab-df-convert\" onclick=\"convertToInteractive('df-88876c8d-7a7a-4e51-930b-307f333ec856')\"\n",
              "              title=\"Convert this dataframe to an interactive table.\"\n",
              "              style=\"display:none;\">\n",
              "        \n",
              "  <svg xmlns=\"http://www.w3.org/2000/svg\" height=\"24px\"viewBox=\"0 0 24 24\"\n",
              "       width=\"24px\">\n",
              "    <path d=\"M0 0h24v24H0V0z\" fill=\"none\"/>\n",
              "    <path d=\"M18.56 5.44l.94 2.06.94-2.06 2.06-.94-2.06-.94-.94-2.06-.94 2.06-2.06.94zm-11 1L8.5 8.5l.94-2.06 2.06-.94-2.06-.94L8.5 2.5l-.94 2.06-2.06.94zm10 10l.94 2.06.94-2.06 2.06-.94-2.06-.94-.94-2.06-.94 2.06-2.06.94z\"/><path d=\"M17.41 7.96l-1.37-1.37c-.4-.4-.92-.59-1.43-.59-.52 0-1.04.2-1.43.59L10.3 9.45l-7.72 7.72c-.78.78-.78 2.05 0 2.83L4 21.41c.39.39.9.59 1.41.59.51 0 1.02-.2 1.41-.59l7.78-7.78 2.81-2.81c.8-.78.8-2.07 0-2.86zM5.41 20L4 18.59l7.72-7.72 1.47 1.35L5.41 20z\"/>\n",
              "  </svg>\n",
              "      </button>\n",
              "      \n",
              "  <style>\n",
              "    .colab-df-container {\n",
              "      display:flex;\n",
              "      flex-wrap:wrap;\n",
              "      gap: 12px;\n",
              "    }\n",
              "\n",
              "    .colab-df-convert {\n",
              "      background-color: #E8F0FE;\n",
              "      border: none;\n",
              "      border-radius: 50%;\n",
              "      cursor: pointer;\n",
              "      display: none;\n",
              "      fill: #1967D2;\n",
              "      height: 32px;\n",
              "      padding: 0 0 0 0;\n",
              "      width: 32px;\n",
              "    }\n",
              "\n",
              "    .colab-df-convert:hover {\n",
              "      background-color: #E2EBFA;\n",
              "      box-shadow: 0px 1px 2px rgba(60, 64, 67, 0.3), 0px 1px 3px 1px rgba(60, 64, 67, 0.15);\n",
              "      fill: #174EA6;\n",
              "    }\n",
              "\n",
              "    [theme=dark] .colab-df-convert {\n",
              "      background-color: #3B4455;\n",
              "      fill: #D2E3FC;\n",
              "    }\n",
              "\n",
              "    [theme=dark] .colab-df-convert:hover {\n",
              "      background-color: #434B5C;\n",
              "      box-shadow: 0px 1px 3px 1px rgba(0, 0, 0, 0.15);\n",
              "      filter: drop-shadow(0px 1px 2px rgba(0, 0, 0, 0.3));\n",
              "      fill: #FFFFFF;\n",
              "    }\n",
              "  </style>\n",
              "\n",
              "      <script>\n",
              "        const buttonEl =\n",
              "          document.querySelector('#df-88876c8d-7a7a-4e51-930b-307f333ec856 button.colab-df-convert');\n",
              "        buttonEl.style.display =\n",
              "          google.colab.kernel.accessAllowed ? 'block' : 'none';\n",
              "\n",
              "        async function convertToInteractive(key) {\n",
              "          const element = document.querySelector('#df-88876c8d-7a7a-4e51-930b-307f333ec856');\n",
              "          const dataTable =\n",
              "            await google.colab.kernel.invokeFunction('convertToInteractive',\n",
              "                                                     [key], {});\n",
              "          if (!dataTable) return;\n",
              "\n",
              "          const docLinkHtml = 'Like what you see? Visit the ' +\n",
              "            '<a target=\"_blank\" href=https://colab.research.google.com/notebooks/data_table.ipynb>data table notebook</a>'\n",
              "            + ' to learn more about interactive tables.';\n",
              "          element.innerHTML = '';\n",
              "          dataTable['output_type'] = 'display_data';\n",
              "          await google.colab.output.renderOutput(dataTable, element);\n",
              "          const docLink = document.createElement('div');\n",
              "          docLink.innerHTML = docLinkHtml;\n",
              "          element.appendChild(docLink);\n",
              "        }\n",
              "      </script>\n",
              "    </div>\n",
              "  </div>\n",
              "  "
            ],
            "text/plain": [
              "   id  target  ps_ind_01  ps_ind_02_cat  ps_ind_03  ps_ind_04_cat  \\\n",
              "0   7       0          2              2          5              1   \n",
              "1   9       0          1              1          7              0   \n",
              "2  13       0          5              4          9              1   \n",
              "3  16       0          0              1          2              0   \n",
              "4  17       0          0              2          0              1   \n",
              "\n",
              "   ps_ind_05_cat  ps_ind_06_bin  ps_ind_07_bin  ps_ind_08_bin  ps_ind_09_bin  \\\n",
              "0              0              0              1              0              0   \n",
              "1              0              0              0              1              0   \n",
              "2              0              0              0              1              0   \n",
              "3              0              1              0              0              0   \n",
              "4              0              1              0              0              0   \n",
              "\n",
              "   ps_ind_10_bin  ps_ind_11_bin  ps_ind_12_bin  ps_ind_13_bin  ps_ind_14  \\\n",
              "0              0              0              0              0          0   \n",
              "1              0              0              0              0          0   \n",
              "2              0              0              0              0          0   \n",
              "3              0              0              0              0          0   \n",
              "4              0              0              0              0          0   \n",
              "\n",
              "   ps_ind_15  ps_ind_16_bin  ps_ind_17_bin  ps_ind_18_bin  \\\n",
              "0         11              0              1              0   \n",
              "1          3              0              0              1   \n",
              "2         12              1              0              0   \n",
              "3          8              1              0              0   \n",
              "4          9              1              0              0   \n",
              "\n",
              "             ps_reg_01            ps_reg_02            ps_reg_03  \\\n",
              "0                 0.70                 0.20                 0.72   \n",
              "1                 0.80                 0.40                 0.77   \n",
              "2                 0.00                 0.00                -1.00   \n",
              "3                 0.90                 0.20                 0.58   \n",
              "4                 0.70                 0.60                 0.84   \n",
              "\n",
              "   ps_car_01_cat  ps_car_02_cat  ps_car_03_cat  ps_car_04_cat  ps_car_05_cat  \\\n",
              "0             10              1             -1              0              1   \n",
              "1             11              1             -1              0             -1   \n",
              "2              7              1             -1              0             -1   \n",
              "3              7              1              0              0              1   \n",
              "4             11              1             -1              0             -1   \n",
              "\n",
              "   ps_car_06_cat  ps_car_07_cat  ps_car_08_cat  ps_car_09_cat  ps_car_10_cat  \\\n",
              "0              4              1              0              0              1   \n",
              "1             11              1              1              2              1   \n",
              "2             14              1              1              2              1   \n",
              "3             11              1              1              3              1   \n",
              "4             14              1              1              2              1   \n",
              "\n",
              "   ps_car_11_cat  ps_car_11            ps_car_12            ps_car_13  \\\n",
              "0             12          2                 0.40                 0.88   \n",
              "1             19          3                 0.32                 0.62   \n",
              "2             60          1                 0.32                 0.64   \n",
              "3            104          1                 0.37                 0.54   \n",
              "4             82          3                 0.32                 0.57   \n",
              "\n",
              "             ps_car_14            ps_car_15           ps_calc_01  \\\n",
              "0                 0.37                 3.61                 0.60   \n",
              "1                 0.39                 2.45                 0.30   \n",
              "2                 0.35                 3.32                 0.50   \n",
              "3                 0.29                 2.00                 0.60   \n",
              "4                 0.37                 2.00                 0.40   \n",
              "\n",
              "            ps_calc_02           ps_calc_03  ps_calc_04  ps_calc_05  \\\n",
              "0                 0.50                 0.20           3           1   \n",
              "1                 0.10                 0.30           2           1   \n",
              "2                 0.70                 0.10           2           2   \n",
              "3                 0.90                 0.10           2           4   \n",
              "4                 0.60                 0.00           2           2   \n",
              "\n",
              "   ps_calc_06  ps_calc_07  ps_calc_08  ps_calc_09  ps_calc_10  ps_calc_11  \\\n",
              "0          10           1          10           1           5           9   \n",
              "1           9           5           8           1           7           3   \n",
              "2           9           1           8           2           7           4   \n",
              "3           7           1           8           4           2           2   \n",
              "4           6           3          10           2          12           3   \n",
              "\n",
              "   ps_calc_12  ps_calc_13  ps_calc_14  ps_calc_15_bin  ps_calc_16_bin  \\\n",
              "0           1           5           8               0               1   \n",
              "1           1           1           9               0               1   \n",
              "2           2           7           7               0               1   \n",
              "3           2           4           9               0               0   \n",
              "4           1           1           3               0               0   \n",
              "\n",
              "   ps_calc_17_bin  ps_calc_18_bin  ps_calc_19_bin  ps_calc_20_bin  \n",
              "0               1               0               0               1  \n",
              "1               1               0               1               0  \n",
              "2               1               0               1               0  \n",
              "3               0               0               0               0  \n",
              "4               0               1               1               0  "
            ]
          },
          "metadata": {},
          "execution_count": 3
        }
      ]
    },
    {
      "cell_type": "markdown",
      "source": [
        "Dataset Description:-\n",
        "The  project  involves  the use  of  a  dataset  with  600k  training  data  and  57  features/data.In  the train and test data, features that belong to similar groupings are tagged as such in the feature names  (e.g.,  ind,  reg,  car,  calc).  In  addition,  feature  names  include  the  postfix  bin  to indicate binary  features  and  cat  to  indicate  categorical  features.  Features  without  these  designations are  either  continuous  or  ordinal.  Values  of -1  indicate  that  the  feature  was  missing  from  the observation. The target column signifieswhethera claim was filed for that policy holder."
      ],
      "metadata": {
        "id": "Vek1apOHlNHa"
      }
    },
    {
      "cell_type": "code",
      "source": [
        "df.describe()"
      ],
      "metadata": {
        "colab": {
          "base_uri": "https://localhost:8080/",
          "height": 364
        },
        "id": "qGvbix_dlAw8",
        "outputId": "c041971d-7534-4e45-f9cf-55bcc744545d"
      },
      "execution_count": 4,
      "outputs": [
        {
          "output_type": "execute_result",
          "data": {
            "text/html": [
              "\n",
              "  <div id=\"df-2383fae4-1fd5-4a55-b22d-a1f85e81fb5f\">\n",
              "    <div class=\"colab-df-container\">\n",
              "      <div>\n",
              "<style scoped>\n",
              "    .dataframe tbody tr th:only-of-type {\n",
              "        vertical-align: middle;\n",
              "    }\n",
              "\n",
              "    .dataframe tbody tr th {\n",
              "        vertical-align: top;\n",
              "    }\n",
              "\n",
              "    .dataframe thead th {\n",
              "        text-align: right;\n",
              "    }\n",
              "</style>\n",
              "<table border=\"1\" class=\"dataframe\">\n",
              "  <thead>\n",
              "    <tr style=\"text-align: right;\">\n",
              "      <th></th>\n",
              "      <th>id</th>\n",
              "      <th>target</th>\n",
              "      <th>ps_ind_01</th>\n",
              "      <th>ps_ind_02_cat</th>\n",
              "      <th>ps_ind_03</th>\n",
              "      <th>ps_ind_04_cat</th>\n",
              "      <th>ps_ind_05_cat</th>\n",
              "      <th>ps_ind_06_bin</th>\n",
              "      <th>ps_ind_07_bin</th>\n",
              "      <th>ps_ind_08_bin</th>\n",
              "      <th>ps_ind_09_bin</th>\n",
              "      <th>ps_ind_10_bin</th>\n",
              "      <th>ps_ind_11_bin</th>\n",
              "      <th>ps_ind_12_bin</th>\n",
              "      <th>ps_ind_13_bin</th>\n",
              "      <th>ps_ind_14</th>\n",
              "      <th>ps_ind_15</th>\n",
              "      <th>ps_ind_16_bin</th>\n",
              "      <th>ps_ind_17_bin</th>\n",
              "      <th>ps_ind_18_bin</th>\n",
              "      <th>ps_reg_01</th>\n",
              "      <th>ps_reg_02</th>\n",
              "      <th>ps_reg_03</th>\n",
              "      <th>ps_car_01_cat</th>\n",
              "      <th>ps_car_02_cat</th>\n",
              "      <th>ps_car_03_cat</th>\n",
              "      <th>ps_car_04_cat</th>\n",
              "      <th>ps_car_05_cat</th>\n",
              "      <th>ps_car_06_cat</th>\n",
              "      <th>ps_car_07_cat</th>\n",
              "      <th>ps_car_08_cat</th>\n",
              "      <th>ps_car_09_cat</th>\n",
              "      <th>ps_car_10_cat</th>\n",
              "      <th>ps_car_11_cat</th>\n",
              "      <th>ps_car_11</th>\n",
              "      <th>ps_car_12</th>\n",
              "      <th>ps_car_13</th>\n",
              "      <th>ps_car_14</th>\n",
              "      <th>ps_car_15</th>\n",
              "      <th>ps_calc_01</th>\n",
              "      <th>ps_calc_02</th>\n",
              "      <th>ps_calc_03</th>\n",
              "      <th>ps_calc_04</th>\n",
              "      <th>ps_calc_05</th>\n",
              "      <th>ps_calc_06</th>\n",
              "      <th>ps_calc_07</th>\n",
              "      <th>ps_calc_08</th>\n",
              "      <th>ps_calc_09</th>\n",
              "      <th>ps_calc_10</th>\n",
              "      <th>ps_calc_11</th>\n",
              "      <th>ps_calc_12</th>\n",
              "      <th>ps_calc_13</th>\n",
              "      <th>ps_calc_14</th>\n",
              "      <th>ps_calc_15_bin</th>\n",
              "      <th>ps_calc_16_bin</th>\n",
              "      <th>ps_calc_17_bin</th>\n",
              "      <th>ps_calc_18_bin</th>\n",
              "      <th>ps_calc_19_bin</th>\n",
              "      <th>ps_calc_20_bin</th>\n",
              "    </tr>\n",
              "  </thead>\n",
              "  <tbody>\n",
              "    <tr>\n",
              "      <th>count</th>\n",
              "      <td>595,212.00</td>\n",
              "      <td>595,212.00</td>\n",
              "      <td>595,212.00</td>\n",
              "      <td>595,212.00</td>\n",
              "      <td>595,212.00</td>\n",
              "      <td>595,212.00</td>\n",
              "      <td>595,212.00</td>\n",
              "      <td>595,212.00</td>\n",
              "      <td>595,212.00</td>\n",
              "      <td>595,212.00</td>\n",
              "      <td>595,212.00</td>\n",
              "      <td>595,212.00</td>\n",
              "      <td>595,212.00</td>\n",
              "      <td>595,212.00</td>\n",
              "      <td>595,212.00</td>\n",
              "      <td>595,212.00</td>\n",
              "      <td>595,212.00</td>\n",
              "      <td>595,212.00</td>\n",
              "      <td>595,212.00</td>\n",
              "      <td>595,212.00</td>\n",
              "      <td>595,212.00</td>\n",
              "      <td>595,212.00</td>\n",
              "      <td>595,212.00</td>\n",
              "      <td>595,212.00</td>\n",
              "      <td>595,212.00</td>\n",
              "      <td>595,212.00</td>\n",
              "      <td>595,212.00</td>\n",
              "      <td>595,212.00</td>\n",
              "      <td>595,212.00</td>\n",
              "      <td>595,212.00</td>\n",
              "      <td>595,212.00</td>\n",
              "      <td>595,212.00</td>\n",
              "      <td>595,212.00</td>\n",
              "      <td>595,212.00</td>\n",
              "      <td>595,212.00</td>\n",
              "      <td>595,212.00</td>\n",
              "      <td>595,212.00</td>\n",
              "      <td>595,212.00</td>\n",
              "      <td>595,212.00</td>\n",
              "      <td>595,212.00</td>\n",
              "      <td>595,212.00</td>\n",
              "      <td>595,212.00</td>\n",
              "      <td>595,212.00</td>\n",
              "      <td>595,212.00</td>\n",
              "      <td>595,212.00</td>\n",
              "      <td>595,212.00</td>\n",
              "      <td>595,212.00</td>\n",
              "      <td>595,212.00</td>\n",
              "      <td>595,212.00</td>\n",
              "      <td>595,212.00</td>\n",
              "      <td>595,212.00</td>\n",
              "      <td>595,212.00</td>\n",
              "      <td>595,212.00</td>\n",
              "      <td>595,212.00</td>\n",
              "      <td>595,212.00</td>\n",
              "      <td>595,212.00</td>\n",
              "      <td>595,212.00</td>\n",
              "      <td>595,212.00</td>\n",
              "      <td>595,212.00</td>\n",
              "    </tr>\n",
              "    <tr>\n",
              "      <th>mean</th>\n",
              "      <td>743,803.56</td>\n",
              "      <td>0.04</td>\n",
              "      <td>1.90</td>\n",
              "      <td>1.36</td>\n",
              "      <td>4.42</td>\n",
              "      <td>0.42</td>\n",
              "      <td>0.41</td>\n",
              "      <td>0.39</td>\n",
              "      <td>0.26</td>\n",
              "      <td>0.16</td>\n",
              "      <td>0.19</td>\n",
              "      <td>0.00</td>\n",
              "      <td>0.00</td>\n",
              "      <td>0.01</td>\n",
              "      <td>0.00</td>\n",
              "      <td>0.01</td>\n",
              "      <td>7.30</td>\n",
              "      <td>0.66</td>\n",
              "      <td>0.12</td>\n",
              "      <td>0.15</td>\n",
              "      <td>0.61</td>\n",
              "      <td>0.44</td>\n",
              "      <td>0.55</td>\n",
              "      <td>8.30</td>\n",
              "      <td>0.83</td>\n",
              "      <td>-0.50</td>\n",
              "      <td>0.73</td>\n",
              "      <td>-0.16</td>\n",
              "      <td>6.56</td>\n",
              "      <td>0.91</td>\n",
              "      <td>0.83</td>\n",
              "      <td>1.33</td>\n",
              "      <td>0.99</td>\n",
              "      <td>62.22</td>\n",
              "      <td>2.35</td>\n",
              "      <td>0.38</td>\n",
              "      <td>0.81</td>\n",
              "      <td>0.28</td>\n",
              "      <td>3.07</td>\n",
              "      <td>0.45</td>\n",
              "      <td>0.45</td>\n",
              "      <td>0.45</td>\n",
              "      <td>2.37</td>\n",
              "      <td>1.89</td>\n",
              "      <td>7.69</td>\n",
              "      <td>3.01</td>\n",
              "      <td>9.23</td>\n",
              "      <td>2.34</td>\n",
              "      <td>8.43</td>\n",
              "      <td>5.44</td>\n",
              "      <td>1.44</td>\n",
              "      <td>2.87</td>\n",
              "      <td>7.54</td>\n",
              "      <td>0.12</td>\n",
              "      <td>0.63</td>\n",
              "      <td>0.55</td>\n",
              "      <td>0.29</td>\n",
              "      <td>0.35</td>\n",
              "      <td>0.15</td>\n",
              "    </tr>\n",
              "    <tr>\n",
              "      <th>std</th>\n",
              "      <td>429,367.82</td>\n",
              "      <td>0.19</td>\n",
              "      <td>1.98</td>\n",
              "      <td>0.66</td>\n",
              "      <td>2.70</td>\n",
              "      <td>0.49</td>\n",
              "      <td>1.35</td>\n",
              "      <td>0.49</td>\n",
              "      <td>0.44</td>\n",
              "      <td>0.37</td>\n",
              "      <td>0.39</td>\n",
              "      <td>0.02</td>\n",
              "      <td>0.04</td>\n",
              "      <td>0.10</td>\n",
              "      <td>0.03</td>\n",
              "      <td>0.13</td>\n",
              "      <td>3.55</td>\n",
              "      <td>0.47</td>\n",
              "      <td>0.33</td>\n",
              "      <td>0.36</td>\n",
              "      <td>0.29</td>\n",
              "      <td>0.40</td>\n",
              "      <td>0.79</td>\n",
              "      <td>2.51</td>\n",
              "      <td>0.38</td>\n",
              "      <td>0.79</td>\n",
              "      <td>2.15</td>\n",
              "      <td>0.84</td>\n",
              "      <td>5.50</td>\n",
              "      <td>0.35</td>\n",
              "      <td>0.37</td>\n",
              "      <td>0.98</td>\n",
              "      <td>0.09</td>\n",
              "      <td>33.01</td>\n",
              "      <td>0.83</td>\n",
              "      <td>0.06</td>\n",
              "      <td>0.22</td>\n",
              "      <td>0.36</td>\n",
              "      <td>0.73</td>\n",
              "      <td>0.29</td>\n",
              "      <td>0.29</td>\n",
              "      <td>0.29</td>\n",
              "      <td>1.12</td>\n",
              "      <td>1.13</td>\n",
              "      <td>1.33</td>\n",
              "      <td>1.41</td>\n",
              "      <td>1.46</td>\n",
              "      <td>1.25</td>\n",
              "      <td>2.90</td>\n",
              "      <td>2.33</td>\n",
              "      <td>1.20</td>\n",
              "      <td>1.69</td>\n",
              "      <td>2.75</td>\n",
              "      <td>0.33</td>\n",
              "      <td>0.48</td>\n",
              "      <td>0.50</td>\n",
              "      <td>0.45</td>\n",
              "      <td>0.48</td>\n",
              "      <td>0.36</td>\n",
              "    </tr>\n",
              "    <tr>\n",
              "      <th>min</th>\n",
              "      <td>7.00</td>\n",
              "      <td>0.00</td>\n",
              "      <td>0.00</td>\n",
              "      <td>-1.00</td>\n",
              "      <td>0.00</td>\n",
              "      <td>-1.00</td>\n",
              "      <td>-1.00</td>\n",
              "      <td>0.00</td>\n",
              "      <td>0.00</td>\n",
              "      <td>0.00</td>\n",
              "      <td>0.00</td>\n",
              "      <td>0.00</td>\n",
              "      <td>0.00</td>\n",
              "      <td>0.00</td>\n",
              "      <td>0.00</td>\n",
              "      <td>0.00</td>\n",
              "      <td>0.00</td>\n",
              "      <td>0.00</td>\n",
              "      <td>0.00</td>\n",
              "      <td>0.00</td>\n",
              "      <td>0.00</td>\n",
              "      <td>0.00</td>\n",
              "      <td>-1.00</td>\n",
              "      <td>-1.00</td>\n",
              "      <td>0.00</td>\n",
              "      <td>-1.00</td>\n",
              "      <td>0.00</td>\n",
              "      <td>-1.00</td>\n",
              "      <td>0.00</td>\n",
              "      <td>-1.00</td>\n",
              "      <td>0.00</td>\n",
              "      <td>-1.00</td>\n",
              "      <td>0.00</td>\n",
              "      <td>1.00</td>\n",
              "      <td>-1.00</td>\n",
              "      <td>-1.00</td>\n",
              "      <td>0.25</td>\n",
              "      <td>-1.00</td>\n",
              "      <td>0.00</td>\n",
              "      <td>0.00</td>\n",
              "      <td>0.00</td>\n",
              "      <td>0.00</td>\n",
              "      <td>0.00</td>\n",
              "      <td>0.00</td>\n",
              "      <td>0.00</td>\n",
              "      <td>0.00</td>\n",
              "      <td>2.00</td>\n",
              "      <td>0.00</td>\n",
              "      <td>0.00</td>\n",
              "      <td>0.00</td>\n",
              "      <td>0.00</td>\n",
              "      <td>0.00</td>\n",
              "      <td>0.00</td>\n",
              "      <td>0.00</td>\n",
              "      <td>0.00</td>\n",
              "      <td>0.00</td>\n",
              "      <td>0.00</td>\n",
              "      <td>0.00</td>\n",
              "      <td>0.00</td>\n",
              "    </tr>\n",
              "    <tr>\n",
              "      <th>25%</th>\n",
              "      <td>371,991.50</td>\n",
              "      <td>0.00</td>\n",
              "      <td>0.00</td>\n",
              "      <td>1.00</td>\n",
              "      <td>2.00</td>\n",
              "      <td>0.00</td>\n",
              "      <td>0.00</td>\n",
              "      <td>0.00</td>\n",
              "      <td>0.00</td>\n",
              "      <td>0.00</td>\n",
              "      <td>0.00</td>\n",
              "      <td>0.00</td>\n",
              "      <td>0.00</td>\n",
              "      <td>0.00</td>\n",
              "      <td>0.00</td>\n",
              "      <td>0.00</td>\n",
              "      <td>5.00</td>\n",
              "      <td>0.00</td>\n",
              "      <td>0.00</td>\n",
              "      <td>0.00</td>\n",
              "      <td>0.40</td>\n",
              "      <td>0.20</td>\n",
              "      <td>0.53</td>\n",
              "      <td>7.00</td>\n",
              "      <td>1.00</td>\n",
              "      <td>-1.00</td>\n",
              "      <td>0.00</td>\n",
              "      <td>-1.00</td>\n",
              "      <td>1.00</td>\n",
              "      <td>1.00</td>\n",
              "      <td>1.00</td>\n",
              "      <td>0.00</td>\n",
              "      <td>1.00</td>\n",
              "      <td>32.00</td>\n",
              "      <td>2.00</td>\n",
              "      <td>0.32</td>\n",
              "      <td>0.67</td>\n",
              "      <td>0.33</td>\n",
              "      <td>2.83</td>\n",
              "      <td>0.20</td>\n",
              "      <td>0.20</td>\n",
              "      <td>0.20</td>\n",
              "      <td>2.00</td>\n",
              "      <td>1.00</td>\n",
              "      <td>7.00</td>\n",
              "      <td>2.00</td>\n",
              "      <td>8.00</td>\n",
              "      <td>1.00</td>\n",
              "      <td>6.00</td>\n",
              "      <td>4.00</td>\n",
              "      <td>1.00</td>\n",
              "      <td>2.00</td>\n",
              "      <td>6.00</td>\n",
              "      <td>0.00</td>\n",
              "      <td>0.00</td>\n",
              "      <td>0.00</td>\n",
              "      <td>0.00</td>\n",
              "      <td>0.00</td>\n",
              "      <td>0.00</td>\n",
              "    </tr>\n",
              "    <tr>\n",
              "      <th>50%</th>\n",
              "      <td>743,547.50</td>\n",
              "      <td>0.00</td>\n",
              "      <td>1.00</td>\n",
              "      <td>1.00</td>\n",
              "      <td>4.00</td>\n",
              "      <td>0.00</td>\n",
              "      <td>0.00</td>\n",
              "      <td>0.00</td>\n",
              "      <td>0.00</td>\n",
              "      <td>0.00</td>\n",
              "      <td>0.00</td>\n",
              "      <td>0.00</td>\n",
              "      <td>0.00</td>\n",
              "      <td>0.00</td>\n",
              "      <td>0.00</td>\n",
              "      <td>0.00</td>\n",
              "      <td>7.00</td>\n",
              "      <td>1.00</td>\n",
              "      <td>0.00</td>\n",
              "      <td>0.00</td>\n",
              "      <td>0.70</td>\n",
              "      <td>0.30</td>\n",
              "      <td>0.72</td>\n",
              "      <td>7.00</td>\n",
              "      <td>1.00</td>\n",
              "      <td>-1.00</td>\n",
              "      <td>0.00</td>\n",
              "      <td>0.00</td>\n",
              "      <td>7.00</td>\n",
              "      <td>1.00</td>\n",
              "      <td>1.00</td>\n",
              "      <td>2.00</td>\n",
              "      <td>1.00</td>\n",
              "      <td>65.00</td>\n",
              "      <td>3.00</td>\n",
              "      <td>0.37</td>\n",
              "      <td>0.77</td>\n",
              "      <td>0.37</td>\n",
              "      <td>3.32</td>\n",
              "      <td>0.50</td>\n",
              "      <td>0.40</td>\n",
              "      <td>0.50</td>\n",
              "      <td>2.00</td>\n",
              "      <td>2.00</td>\n",
              "      <td>8.00</td>\n",
              "      <td>3.00</td>\n",
              "      <td>9.00</td>\n",
              "      <td>2.00</td>\n",
              "      <td>8.00</td>\n",
              "      <td>5.00</td>\n",
              "      <td>1.00</td>\n",
              "      <td>3.00</td>\n",
              "      <td>7.00</td>\n",
              "      <td>0.00</td>\n",
              "      <td>1.00</td>\n",
              "      <td>1.00</td>\n",
              "      <td>0.00</td>\n",
              "      <td>0.00</td>\n",
              "      <td>0.00</td>\n",
              "    </tr>\n",
              "    <tr>\n",
              "      <th>75%</th>\n",
              "      <td>1,115,548.75</td>\n",
              "      <td>0.00</td>\n",
              "      <td>3.00</td>\n",
              "      <td>2.00</td>\n",
              "      <td>6.00</td>\n",
              "      <td>1.00</td>\n",
              "      <td>0.00</td>\n",
              "      <td>1.00</td>\n",
              "      <td>1.00</td>\n",
              "      <td>0.00</td>\n",
              "      <td>0.00</td>\n",
              "      <td>0.00</td>\n",
              "      <td>0.00</td>\n",
              "      <td>0.00</td>\n",
              "      <td>0.00</td>\n",
              "      <td>0.00</td>\n",
              "      <td>10.00</td>\n",
              "      <td>1.00</td>\n",
              "      <td>0.00</td>\n",
              "      <td>0.00</td>\n",
              "      <td>0.90</td>\n",
              "      <td>0.60</td>\n",
              "      <td>1.00</td>\n",
              "      <td>11.00</td>\n",
              "      <td>1.00</td>\n",
              "      <td>0.00</td>\n",
              "      <td>0.00</td>\n",
              "      <td>1.00</td>\n",
              "      <td>11.00</td>\n",
              "      <td>1.00</td>\n",
              "      <td>1.00</td>\n",
              "      <td>2.00</td>\n",
              "      <td>1.00</td>\n",
              "      <td>93.00</td>\n",
              "      <td>3.00</td>\n",
              "      <td>0.40</td>\n",
              "      <td>0.91</td>\n",
              "      <td>0.40</td>\n",
              "      <td>3.61</td>\n",
              "      <td>0.70</td>\n",
              "      <td>0.70</td>\n",
              "      <td>0.70</td>\n",
              "      <td>3.00</td>\n",
              "      <td>3.00</td>\n",
              "      <td>9.00</td>\n",
              "      <td>4.00</td>\n",
              "      <td>10.00</td>\n",
              "      <td>3.00</td>\n",
              "      <td>10.00</td>\n",
              "      <td>7.00</td>\n",
              "      <td>2.00</td>\n",
              "      <td>4.00</td>\n",
              "      <td>9.00</td>\n",
              "      <td>0.00</td>\n",
              "      <td>1.00</td>\n",
              "      <td>1.00</td>\n",
              "      <td>1.00</td>\n",
              "      <td>1.00</td>\n",
              "      <td>0.00</td>\n",
              "    </tr>\n",
              "    <tr>\n",
              "      <th>max</th>\n",
              "      <td>1,488,027.00</td>\n",
              "      <td>1.00</td>\n",
              "      <td>7.00</td>\n",
              "      <td>4.00</td>\n",
              "      <td>11.00</td>\n",
              "      <td>1.00</td>\n",
              "      <td>6.00</td>\n",
              "      <td>1.00</td>\n",
              "      <td>1.00</td>\n",
              "      <td>1.00</td>\n",
              "      <td>1.00</td>\n",
              "      <td>1.00</td>\n",
              "      <td>1.00</td>\n",
              "      <td>1.00</td>\n",
              "      <td>1.00</td>\n",
              "      <td>4.00</td>\n",
              "      <td>13.00</td>\n",
              "      <td>1.00</td>\n",
              "      <td>1.00</td>\n",
              "      <td>1.00</td>\n",
              "      <td>0.90</td>\n",
              "      <td>1.80</td>\n",
              "      <td>4.04</td>\n",
              "      <td>11.00</td>\n",
              "      <td>1.00</td>\n",
              "      <td>1.00</td>\n",
              "      <td>9.00</td>\n",
              "      <td>1.00</td>\n",
              "      <td>17.00</td>\n",
              "      <td>1.00</td>\n",
              "      <td>1.00</td>\n",
              "      <td>4.00</td>\n",
              "      <td>2.00</td>\n",
              "      <td>104.00</td>\n",
              "      <td>3.00</td>\n",
              "      <td>1.26</td>\n",
              "      <td>3.72</td>\n",
              "      <td>0.64</td>\n",
              "      <td>3.74</td>\n",
              "      <td>0.90</td>\n",
              "      <td>0.90</td>\n",
              "      <td>0.90</td>\n",
              "      <td>5.00</td>\n",
              "      <td>6.00</td>\n",
              "      <td>10.00</td>\n",
              "      <td>9.00</td>\n",
              "      <td>12.00</td>\n",
              "      <td>7.00</td>\n",
              "      <td>25.00</td>\n",
              "      <td>19.00</td>\n",
              "      <td>10.00</td>\n",
              "      <td>13.00</td>\n",
              "      <td>23.00</td>\n",
              "      <td>1.00</td>\n",
              "      <td>1.00</td>\n",
              "      <td>1.00</td>\n",
              "      <td>1.00</td>\n",
              "      <td>1.00</td>\n",
              "      <td>1.00</td>\n",
              "    </tr>\n",
              "  </tbody>\n",
              "</table>\n",
              "</div>\n",
              "      <button class=\"colab-df-convert\" onclick=\"convertToInteractive('df-2383fae4-1fd5-4a55-b22d-a1f85e81fb5f')\"\n",
              "              title=\"Convert this dataframe to an interactive table.\"\n",
              "              style=\"display:none;\">\n",
              "        \n",
              "  <svg xmlns=\"http://www.w3.org/2000/svg\" height=\"24px\"viewBox=\"0 0 24 24\"\n",
              "       width=\"24px\">\n",
              "    <path d=\"M0 0h24v24H0V0z\" fill=\"none\"/>\n",
              "    <path d=\"M18.56 5.44l.94 2.06.94-2.06 2.06-.94-2.06-.94-.94-2.06-.94 2.06-2.06.94zm-11 1L8.5 8.5l.94-2.06 2.06-.94-2.06-.94L8.5 2.5l-.94 2.06-2.06.94zm10 10l.94 2.06.94-2.06 2.06-.94-2.06-.94-.94-2.06-.94 2.06-2.06.94z\"/><path d=\"M17.41 7.96l-1.37-1.37c-.4-.4-.92-.59-1.43-.59-.52 0-1.04.2-1.43.59L10.3 9.45l-7.72 7.72c-.78.78-.78 2.05 0 2.83L4 21.41c.39.39.9.59 1.41.59.51 0 1.02-.2 1.41-.59l7.78-7.78 2.81-2.81c.8-.78.8-2.07 0-2.86zM5.41 20L4 18.59l7.72-7.72 1.47 1.35L5.41 20z\"/>\n",
              "  </svg>\n",
              "      </button>\n",
              "      \n",
              "  <style>\n",
              "    .colab-df-container {\n",
              "      display:flex;\n",
              "      flex-wrap:wrap;\n",
              "      gap: 12px;\n",
              "    }\n",
              "\n",
              "    .colab-df-convert {\n",
              "      background-color: #E8F0FE;\n",
              "      border: none;\n",
              "      border-radius: 50%;\n",
              "      cursor: pointer;\n",
              "      display: none;\n",
              "      fill: #1967D2;\n",
              "      height: 32px;\n",
              "      padding: 0 0 0 0;\n",
              "      width: 32px;\n",
              "    }\n",
              "\n",
              "    .colab-df-convert:hover {\n",
              "      background-color: #E2EBFA;\n",
              "      box-shadow: 0px 1px 2px rgba(60, 64, 67, 0.3), 0px 1px 3px 1px rgba(60, 64, 67, 0.15);\n",
              "      fill: #174EA6;\n",
              "    }\n",
              "\n",
              "    [theme=dark] .colab-df-convert {\n",
              "      background-color: #3B4455;\n",
              "      fill: #D2E3FC;\n",
              "    }\n",
              "\n",
              "    [theme=dark] .colab-df-convert:hover {\n",
              "      background-color: #434B5C;\n",
              "      box-shadow: 0px 1px 3px 1px rgba(0, 0, 0, 0.15);\n",
              "      filter: drop-shadow(0px 1px 2px rgba(0, 0, 0, 0.3));\n",
              "      fill: #FFFFFF;\n",
              "    }\n",
              "  </style>\n",
              "\n",
              "      <script>\n",
              "        const buttonEl =\n",
              "          document.querySelector('#df-2383fae4-1fd5-4a55-b22d-a1f85e81fb5f button.colab-df-convert');\n",
              "        buttonEl.style.display =\n",
              "          google.colab.kernel.accessAllowed ? 'block' : 'none';\n",
              "\n",
              "        async function convertToInteractive(key) {\n",
              "          const element = document.querySelector('#df-2383fae4-1fd5-4a55-b22d-a1f85e81fb5f');\n",
              "          const dataTable =\n",
              "            await google.colab.kernel.invokeFunction('convertToInteractive',\n",
              "                                                     [key], {});\n",
              "          if (!dataTable) return;\n",
              "\n",
              "          const docLinkHtml = 'Like what you see? Visit the ' +\n",
              "            '<a target=\"_blank\" href=https://colab.research.google.com/notebooks/data_table.ipynb>data table notebook</a>'\n",
              "            + ' to learn more about interactive tables.';\n",
              "          element.innerHTML = '';\n",
              "          dataTable['output_type'] = 'display_data';\n",
              "          await google.colab.output.renderOutput(dataTable, element);\n",
              "          const docLink = document.createElement('div');\n",
              "          docLink.innerHTML = docLinkHtml;\n",
              "          element.appendChild(docLink);\n",
              "        }\n",
              "      </script>\n",
              "    </div>\n",
              "  </div>\n",
              "  "
            ],
            "text/plain": [
              "                        id               target            ps_ind_01  \\\n",
              "count           595,212.00           595,212.00           595,212.00   \n",
              "mean            743,803.56                 0.04                 1.90   \n",
              "std             429,367.82                 0.19                 1.98   \n",
              "min                   7.00                 0.00                 0.00   \n",
              "25%             371,991.50                 0.00                 0.00   \n",
              "50%             743,547.50                 0.00                 1.00   \n",
              "75%           1,115,548.75                 0.00                 3.00   \n",
              "max           1,488,027.00                 1.00                 7.00   \n",
              "\n",
              "             ps_ind_02_cat            ps_ind_03        ps_ind_04_cat  \\\n",
              "count           595,212.00           595,212.00           595,212.00   \n",
              "mean                  1.36                 4.42                 0.42   \n",
              "std                   0.66                 2.70                 0.49   \n",
              "min                  -1.00                 0.00                -1.00   \n",
              "25%                   1.00                 2.00                 0.00   \n",
              "50%                   1.00                 4.00                 0.00   \n",
              "75%                   2.00                 6.00                 1.00   \n",
              "max                   4.00                11.00                 1.00   \n",
              "\n",
              "             ps_ind_05_cat        ps_ind_06_bin        ps_ind_07_bin  \\\n",
              "count           595,212.00           595,212.00           595,212.00   \n",
              "mean                  0.41                 0.39                 0.26   \n",
              "std                   1.35                 0.49                 0.44   \n",
              "min                  -1.00                 0.00                 0.00   \n",
              "25%                   0.00                 0.00                 0.00   \n",
              "50%                   0.00                 0.00                 0.00   \n",
              "75%                   0.00                 1.00                 1.00   \n",
              "max                   6.00                 1.00                 1.00   \n",
              "\n",
              "             ps_ind_08_bin        ps_ind_09_bin        ps_ind_10_bin  \\\n",
              "count           595,212.00           595,212.00           595,212.00   \n",
              "mean                  0.16                 0.19                 0.00   \n",
              "std                   0.37                 0.39                 0.02   \n",
              "min                   0.00                 0.00                 0.00   \n",
              "25%                   0.00                 0.00                 0.00   \n",
              "50%                   0.00                 0.00                 0.00   \n",
              "75%                   0.00                 0.00                 0.00   \n",
              "max                   1.00                 1.00                 1.00   \n",
              "\n",
              "             ps_ind_11_bin        ps_ind_12_bin        ps_ind_13_bin  \\\n",
              "count           595,212.00           595,212.00           595,212.00   \n",
              "mean                  0.00                 0.01                 0.00   \n",
              "std                   0.04                 0.10                 0.03   \n",
              "min                   0.00                 0.00                 0.00   \n",
              "25%                   0.00                 0.00                 0.00   \n",
              "50%                   0.00                 0.00                 0.00   \n",
              "75%                   0.00                 0.00                 0.00   \n",
              "max                   1.00                 1.00                 1.00   \n",
              "\n",
              "                 ps_ind_14            ps_ind_15        ps_ind_16_bin  \\\n",
              "count           595,212.00           595,212.00           595,212.00   \n",
              "mean                  0.01                 7.30                 0.66   \n",
              "std                   0.13                 3.55                 0.47   \n",
              "min                   0.00                 0.00                 0.00   \n",
              "25%                   0.00                 5.00                 0.00   \n",
              "50%                   0.00                 7.00                 1.00   \n",
              "75%                   0.00                10.00                 1.00   \n",
              "max                   4.00                13.00                 1.00   \n",
              "\n",
              "             ps_ind_17_bin        ps_ind_18_bin            ps_reg_01  \\\n",
              "count           595,212.00           595,212.00           595,212.00   \n",
              "mean                  0.12                 0.15                 0.61   \n",
              "std                   0.33                 0.36                 0.29   \n",
              "min                   0.00                 0.00                 0.00   \n",
              "25%                   0.00                 0.00                 0.40   \n",
              "50%                   0.00                 0.00                 0.70   \n",
              "75%                   0.00                 0.00                 0.90   \n",
              "max                   1.00                 1.00                 0.90   \n",
              "\n",
              "                 ps_reg_02            ps_reg_03        ps_car_01_cat  \\\n",
              "count           595,212.00           595,212.00           595,212.00   \n",
              "mean                  0.44                 0.55                 8.30   \n",
              "std                   0.40                 0.79                 2.51   \n",
              "min                   0.00                -1.00                -1.00   \n",
              "25%                   0.20                 0.53                 7.00   \n",
              "50%                   0.30                 0.72                 7.00   \n",
              "75%                   0.60                 1.00                11.00   \n",
              "max                   1.80                 4.04                11.00   \n",
              "\n",
              "             ps_car_02_cat        ps_car_03_cat        ps_car_04_cat  \\\n",
              "count           595,212.00           595,212.00           595,212.00   \n",
              "mean                  0.83                -0.50                 0.73   \n",
              "std                   0.38                 0.79                 2.15   \n",
              "min                   0.00                -1.00                 0.00   \n",
              "25%                   1.00                -1.00                 0.00   \n",
              "50%                   1.00                -1.00                 0.00   \n",
              "75%                   1.00                 0.00                 0.00   \n",
              "max                   1.00                 1.00                 9.00   \n",
              "\n",
              "             ps_car_05_cat        ps_car_06_cat        ps_car_07_cat  \\\n",
              "count           595,212.00           595,212.00           595,212.00   \n",
              "mean                 -0.16                 6.56                 0.91   \n",
              "std                   0.84                 5.50                 0.35   \n",
              "min                  -1.00                 0.00                -1.00   \n",
              "25%                  -1.00                 1.00                 1.00   \n",
              "50%                   0.00                 7.00                 1.00   \n",
              "75%                   1.00                11.00                 1.00   \n",
              "max                   1.00                17.00                 1.00   \n",
              "\n",
              "             ps_car_08_cat        ps_car_09_cat        ps_car_10_cat  \\\n",
              "count           595,212.00           595,212.00           595,212.00   \n",
              "mean                  0.83                 1.33                 0.99   \n",
              "std                   0.37                 0.98                 0.09   \n",
              "min                   0.00                -1.00                 0.00   \n",
              "25%                   1.00                 0.00                 1.00   \n",
              "50%                   1.00                 2.00                 1.00   \n",
              "75%                   1.00                 2.00                 1.00   \n",
              "max                   1.00                 4.00                 2.00   \n",
              "\n",
              "             ps_car_11_cat            ps_car_11            ps_car_12  \\\n",
              "count           595,212.00           595,212.00           595,212.00   \n",
              "mean                 62.22                 2.35                 0.38   \n",
              "std                  33.01                 0.83                 0.06   \n",
              "min                   1.00                -1.00                -1.00   \n",
              "25%                  32.00                 2.00                 0.32   \n",
              "50%                  65.00                 3.00                 0.37   \n",
              "75%                  93.00                 3.00                 0.40   \n",
              "max                 104.00                 3.00                 1.26   \n",
              "\n",
              "                 ps_car_13            ps_car_14            ps_car_15  \\\n",
              "count           595,212.00           595,212.00           595,212.00   \n",
              "mean                  0.81                 0.28                 3.07   \n",
              "std                   0.22                 0.36                 0.73   \n",
              "min                   0.25                -1.00                 0.00   \n",
              "25%                   0.67                 0.33                 2.83   \n",
              "50%                   0.77                 0.37                 3.32   \n",
              "75%                   0.91                 0.40                 3.61   \n",
              "max                   3.72                 0.64                 3.74   \n",
              "\n",
              "                ps_calc_01           ps_calc_02           ps_calc_03  \\\n",
              "count           595,212.00           595,212.00           595,212.00   \n",
              "mean                  0.45                 0.45                 0.45   \n",
              "std                   0.29                 0.29                 0.29   \n",
              "min                   0.00                 0.00                 0.00   \n",
              "25%                   0.20                 0.20                 0.20   \n",
              "50%                   0.50                 0.40                 0.50   \n",
              "75%                   0.70                 0.70                 0.70   \n",
              "max                   0.90                 0.90                 0.90   \n",
              "\n",
              "                ps_calc_04           ps_calc_05           ps_calc_06  \\\n",
              "count           595,212.00           595,212.00           595,212.00   \n",
              "mean                  2.37                 1.89                 7.69   \n",
              "std                   1.12                 1.13                 1.33   \n",
              "min                   0.00                 0.00                 0.00   \n",
              "25%                   2.00                 1.00                 7.00   \n",
              "50%                   2.00                 2.00                 8.00   \n",
              "75%                   3.00                 3.00                 9.00   \n",
              "max                   5.00                 6.00                10.00   \n",
              "\n",
              "                ps_calc_07           ps_calc_08           ps_calc_09  \\\n",
              "count           595,212.00           595,212.00           595,212.00   \n",
              "mean                  3.01                 9.23                 2.34   \n",
              "std                   1.41                 1.46                 1.25   \n",
              "min                   0.00                 2.00                 0.00   \n",
              "25%                   2.00                 8.00                 1.00   \n",
              "50%                   3.00                 9.00                 2.00   \n",
              "75%                   4.00                10.00                 3.00   \n",
              "max                   9.00                12.00                 7.00   \n",
              "\n",
              "                ps_calc_10           ps_calc_11           ps_calc_12  \\\n",
              "count           595,212.00           595,212.00           595,212.00   \n",
              "mean                  8.43                 5.44                 1.44   \n",
              "std                   2.90                 2.33                 1.20   \n",
              "min                   0.00                 0.00                 0.00   \n",
              "25%                   6.00                 4.00                 1.00   \n",
              "50%                   8.00                 5.00                 1.00   \n",
              "75%                  10.00                 7.00                 2.00   \n",
              "max                  25.00                19.00                10.00   \n",
              "\n",
              "                ps_calc_13           ps_calc_14       ps_calc_15_bin  \\\n",
              "count           595,212.00           595,212.00           595,212.00   \n",
              "mean                  2.87                 7.54                 0.12   \n",
              "std                   1.69                 2.75                 0.33   \n",
              "min                   0.00                 0.00                 0.00   \n",
              "25%                   2.00                 6.00                 0.00   \n",
              "50%                   3.00                 7.00                 0.00   \n",
              "75%                   4.00                 9.00                 0.00   \n",
              "max                  13.00                23.00                 1.00   \n",
              "\n",
              "            ps_calc_16_bin       ps_calc_17_bin       ps_calc_18_bin  \\\n",
              "count           595,212.00           595,212.00           595,212.00   \n",
              "mean                  0.63                 0.55                 0.29   \n",
              "std                   0.48                 0.50                 0.45   \n",
              "min                   0.00                 0.00                 0.00   \n",
              "25%                   0.00                 0.00                 0.00   \n",
              "50%                   1.00                 1.00                 0.00   \n",
              "75%                   1.00                 1.00                 1.00   \n",
              "max                   1.00                 1.00                 1.00   \n",
              "\n",
              "            ps_calc_19_bin       ps_calc_20_bin  \n",
              "count           595,212.00           595,212.00  \n",
              "mean                  0.35                 0.15  \n",
              "std                   0.48                 0.36  \n",
              "min                   0.00                 0.00  \n",
              "25%                   0.00                 0.00  \n",
              "50%                   0.00                 0.00  \n",
              "75%                   1.00                 0.00  \n",
              "max                   1.00                 1.00  "
            ]
          },
          "metadata": {},
          "execution_count": 4
        }
      ]
    },
    {
      "cell_type": "code",
      "source": [
        "temp = df[:200000]\n",
        "_X = temp.drop(['id','target'],axis =1)\n",
        "_y=temp.target\n",
        "metadata_matrix_dataframe = get_meta_data(df)\n",
        "metadata_matrix_dataframe[\"dt_name\"] =[ i.split(\"_\")[-1] for i in metadata_matrix_dataframe.index.values]\n",
        "metadata_matrix_dataframe['dt_name'] = metadata_matrix_dataframe['dt_name'].apply(lambda x : \"interval\" if str(x).isnumeric() else x)"
      ],
      "metadata": {
        "id": "C5dhS6eZmF_J"
      },
      "execution_count": 5,
      "outputs": []
    },
    {
      "cell_type": "code",
      "source": [
        "Dtype = metadata_matrix_dataframe.groupby(['dt_name'])\n",
        "\n",
        "interval_feature =Dtype.get_group(\"interval\").index.tolist()\n",
        "bin_feature = Dtype.get_group(\"bin\").index.tolist()\n",
        "cat_feature = Dtype.get_group(\"cat\").index.tolist()\n"
      ],
      "metadata": {
        "id": "8utE76ZPmTBB"
      },
      "execution_count": 6,
      "outputs": []
    },
    {
      "cell_type": "markdown",
      "source": [
        "1. Write at least 3 important inferences from the data above\n",
        "\n",
        "Ans.:\n",
        "\n",
        "Data is higly imbalanced, target distribtion is:\n",
        "\n",
        "0 = 96.36 %\n",
        "\n",
        "1 = 3.64 %\n",
        "\n",
        "data have variable type:\n",
        "\n",
        "Interval = 45.6\n",
        "\n",
        "binary =29.8\n",
        "\n",
        "categorical = 24.6\n",
        "\n",
        "Most of the features are uncorrelated\n",
        "\n",
        "2. Is the data balanced? Meaning are targets 0 and 1 in the right proportion?\n",
        "\n",
        "Ans.: No, data not balanced as shown below."
      ],
      "metadata": {
        "id": "yTTqDEQpmdzq"
      }
    },
    {
      "cell_type": "code",
      "source": [
        "perc = (df['target'].value_counts()/(df.shape[0]))*100\n",
        "print(\"Percentge distribution of class '1' & class '0':\\n\\n\",perc)\n",
        "perc.plot.bar();"
      ],
      "metadata": {
        "colab": {
          "base_uri": "https://localhost:8080/",
          "height": 353
        },
        "id": "BgXR3IsrmWyP",
        "outputId": "f0607376-555b-44a8-cea4-f69ab3bfe64f"
      },
      "execution_count": 7,
      "outputs": [
        {
          "output_type": "stream",
          "name": "stdout",
          "text": [
            "Percentge distribution of class '1' & class '0':\n",
            "\n",
            " 0                  96.36\n",
            "1                   3.64\n",
            "Name: target, dtype: float64\n"
          ]
        },
        {
          "output_type": "display_data",
          "data": {
            "image/png": "[encoded data removed]",
            "text/plain": [
              "<Figure size 432x288 with 1 Axes>"
            ]
          },
          "metadata": {
            "needs_background": "light"
          }
        }
      ]
    },
    {
      "cell_type": "markdown",
      "source": [
        "3. How many categorical features are there?"
      ],
      "metadata": {
        "id": "hxEoxYfCm5W-"
      }
    },
    {
      "cell_type": "code",
      "source": [
        "group_variable_type = metadata_matrix_dataframe.groupby('Variable_Type')\n",
        "print(\"categorical features count:\",group_variable_type.get_group('Categorical').shape[0])"
      ],
      "metadata": {
        "colab": {
          "base_uri": "https://localhost:8080/"
        },
        "id": "1W-YCuHDm4cu",
        "outputId": "d3efb81d-fec1-48cc-c8de-78953dbcd29a"
      },
      "execution_count": 8,
      "outputs": [
        {
          "output_type": "stream",
          "name": "stdout",
          "text": [
            "categorical features count: 50\n"
          ]
        }
      ]
    },
    {
      "cell_type": "code",
      "source": [
        "temp = df[interval_feature].corr()\n",
        "temp = temp[(temp>=0.5) | (temp<=-0.5)].fillna(0)\n",
        "fig, ax = plt.subplots(figsize=(12,10))\n",
        "sns.heatmap(temp,linewidths=.5, cmap=\"YlGnBu\",ax=ax)\n",
        "plt.show()"
      ],
      "metadata": {
        "colab": {
          "base_uri": "https://localhost:8080/",
          "height": 648
        },
        "id": "YolSxJ1onDYV",
        "outputId": "1aee19c0-0999-407f-ab93-c3c4af37656d"
      },
      "execution_count": 9,
      "outputs": [
        {
          "output_type": "display_data",
          "data": {
            "image/png": "[encoded data removed]",
            "text/plain": [
              "<Figure size 864x720 with 2 Axes>"
            ]
          },
          "metadata": {
            "needs_background": "light"
          }
        }
      ]
    },
    {
      "cell_type": "code",
      "source": [
        "log(\"Analysis : Almost all the features are independent, Looking at above plot only 3 features are correlated with correlation near 0.5.\")"
      ],
      "metadata": {
        "colab": {
          "base_uri": "https://localhost:8080/",
          "height": 62
        },
        "id": "7sTpZxQ7nTtx",
        "outputId": "d095daee-aff6-438b-9b9c-c400ea6fcf4d"
      },
      "execution_count": 10,
      "outputs": [
        {
          "output_type": "display_data",
          "data": {
            "text/markdown": "> <span style='color:blue'>Analysis : Almost all the features are independent, Looking at above plot only 3 features are correlated with correlation near 0.5.</span>",
            "text/plain": [
              "<IPython.core.display.Markdown object>"
            ]
          },
          "metadata": {}
        }
      ]
    },
    {
      "cell_type": "markdown",
      "source": [
        "6. Write inferences from data on ordinal variables."
      ],
      "metadata": {
        "id": "YAPMtKb8nZl0"
      }
    },
    {
      "cell_type": "code",
      "source": [
        "d ={}\n",
        "for i in df[cat_feature].columns:\n",
        "    d[i] = df[cat_feature][i].nunique()\n",
        "\n",
        "pd.DataFrame(d,index=['unique values']).T.plot.bar(figsize=(16,8));"
      ],
      "metadata": {
        "colab": {
          "base_uri": "https://localhost:8080/",
          "height": 553
        },
        "id": "bi8T2pEjnY9B",
        "outputId": "37130794-875f-4199-e10f-cfaeb2c3958d"
      },
      "execution_count": 11,
      "outputs": [
        {
          "output_type": "display_data",
          "data": {
            "image/png": "[encoded data removed]",
            "text/plain": [
              "<Figure size 1152x576 with 1 Axes>"
            ]
          },
          "metadata": {
            "needs_background": "light"
          }
        }
      ]
    },
    {
      "cell_type": "code",
      "source": [
        "log(\"Analysis : Looking at above graph only one feature have unqiue values more than 20\")"
      ],
      "metadata": {
        "colab": {
          "base_uri": "https://localhost:8080/",
          "height": 62
        },
        "id": "ojCANfJCnWAn",
        "outputId": "fb5253dd-416f-487f-caa8-0c73d6b7173a"
      },
      "execution_count": 12,
      "outputs": [
        {
          "output_type": "display_data",
          "data": {
            "text/markdown": "> <span style='color:blue'>Analysis : Looking at above graph only one feature have unqiue values more than 20</span>",
            "text/plain": [
              "<IPython.core.display.Markdown object>"
            ]
          },
          "metadata": {}
        }
      ]
    },
    {
      "cell_type": "markdown",
      "source": [
        "7. Write inferences from data on binary variables"
      ],
      "metadata": {
        "id": "Ey-wRGD_ntD3"
      }
    },
    {
      "cell_type": "code",
      "source": [
        "col = metadata_matrix_dataframe[metadata_matrix_dataframe['Unique_Values_Count'] == 2].index\n",
        "df_1 = pd.DataFrame((df[col].sum()/df[col].shape[0])*100, columns=['Percentage of 1'])\n",
        "df_1.plot.bar(figsize=(16,8));\n",
        "log(\"Analysis : Looking at above graph % of 1's is near near for *ps_ind_10_bin, ps_ind_11_bin, ps_ind_12_bin, ps_ind_13_bin.\");"
      ],
      "metadata": {
        "colab": {
          "base_uri": "https://localhost:8080/",
          "height": 603
        },
        "id": "UUbCU-mgntvm",
        "outputId": "9f2ec92b-a693-4f5b-8001-f44ee6f7b478"
      },
      "execution_count": 13,
      "outputs": [
        {
          "output_type": "display_data",
          "data": {
            "text/markdown": "> <span style='color:blue'>Analysis : Looking at above graph % of 1's is near near for *ps_ind_10_bin, ps_ind_11_bin, ps_ind_12_bin, ps_ind_13_bin.</span>",
            "text/plain": [
              "<IPython.core.display.Markdown object>"
            ]
          },
          "metadata": {}
        },
        {
          "output_type": "display_data",
          "data": {
            "image/png": "[encoded data removed]",
            "text/plain": [
              "<Figure size 1152x576 with 1 Axes>"
            ]
          },
          "metadata": {
            "needs_background": "light"
          }
        }
      ]
    },
    {
      "cell_type": "markdown",
      "source": [
        "8.Check if the target data is proportionate or not. Hint: Below than 30% for binary data is sign of imbalance"
      ],
      "metadata": {
        "id": "XsEJjvSgoNva"
      }
    },
    {
      "cell_type": "code",
      "source": [
        "Per1= np.round((df[df['target']==1].shape[0]*100)/ df.shape[0],2)\n",
        "Per0= np.round((df[df['target']==0].shape[0]*100)/ df.shape[0],2)\n",
        "\n",
        "print('Target=1 shape:',df[df['target']==1].shape, Per1,'%','\\nTarget=0 shape:',df[df['target']==0].shape,Per0,'%')\n",
        "print(\"\\n # This Data shows that it's imbalanced\")\n",
        "sns.countplot(x= df['target'])\n",
        "plt.show()"
      ],
      "metadata": {
        "colab": {
          "base_uri": "https://localhost:8080/",
          "height": 357
        },
        "id": "NKluUCproNI-",
        "outputId": "fe77b6d3-dfde-446f-d36b-58265b6346be"
      },
      "execution_count": 14,
      "outputs": [
        {
          "output_type": "stream",
          "name": "stdout",
          "text": [
            "Target=1 shape: (21694, 59) 3.64 % \n",
            "Target=0 shape: (573518, 59) 96.36 %\n",
            "\n",
            " # This Data shows that it's imbalanced\n"
          ]
        },
        {
          "output_type": "display_data",
          "data": {
            "image/png": "[encoded data removed]",
            "text/plain": [
              "<Figure size 432x288 with 1 Axes>"
            ]
          },
          "metadata": {
            "needs_background": "light"
          }
        }
      ]
    },
    {
      "cell_type": "markdown",
      "source": [
        "9. What should be the preferred way in this case to balance the data?\n",
        "\n",
        "The most popular solution to an imbalanced classification problem is to change the composition of the training dataset.Techniques designed to change the class distribution in the training dataset are generally referred to as sampling methods or resampling methods as we are sampling an existing data sample.\n",
        "\n",
        "10. How many training records are there after achieving a balance of 12%?\n",
        "\n"
      ],
      "metadata": {
        "id": "8gSFDwHQoXlZ"
      }
    },
    {
      "cell_type": "code",
      "source": [
        "# using resampling technique, splittinf data into classes\n",
        "df_mino= df[df['target']==1]\n",
        "df_majo= df[df['target']==0]\n",
        "df_mino_upsampled = resample(df_mino,replace=True,n_samples=int(len(df_majo)*0.12), random_state = 42)\n",
        "\n",
        "print(\"Size of data, after achieving a balance of 12%: \", df_mino_upsampled.shape[0] + df_majo.shape[0])"
      ],
      "metadata": {
        "colab": {
          "base_uri": "https://localhost:8080/"
        },
        "id": "1nwaD-jFoXBI",
        "outputId": "53c5a38c-f811-43f1-9152-5b6f71dc13f4"
      },
      "execution_count": 15,
      "outputs": [
        {
          "output_type": "stream",
          "name": "stdout",
          "text": [
            "Size of data, after achieving a balance of 12%:  642340\n"
          ]
        }
      ]
    },
    {
      "cell_type": "markdown",
      "source": [
        "11. Which are the top two features in terms of missing values?\n",
        "No Missing Value Found.\n",
        "\n",
        "12. In total, how many features have missing values?\n",
        "No Feature having missing values\n",
        "\n",
        "13. What steps should be taken to handle the missing data?\n",
        "NA\n"
      ],
      "metadata": {
        "id": "25_ojE08n7Zu"
      }
    },
    {
      "cell_type": "code",
      "source": [
        "#Applying Resampling to make balance data-set¶\n",
        "df_mino_upsampled = resample(df_mino,replace=True,n_samples=len(df_majo), random_state = 42)\n",
        "df = pd.concat([df_majo,df_mino_upsampled])\n",
        "print(\"Class compostion after resampling:\")\n",
        "print(df['target'].value_counts())\n",
        "df['target'].value_counts().plot.bar();"
      ],
      "metadata": {
        "colab": {
          "base_uri": "https://localhost:8080/",
          "height": 337
        },
        "id": "I1VgZ1U1npyK",
        "outputId": "9d693fec-7799-40c9-c12e-fb40b1c05ac4"
      },
      "execution_count": 16,
      "outputs": [
        {
          "output_type": "stream",
          "name": "stdout",
          "text": [
            "Class compostion after resampling:\n",
            "1    573518\n",
            "0    573518\n",
            "Name: target, dtype: int64\n"
          ]
        },
        {
          "output_type": "display_data",
          "data": {
            "image/png": "[encoded data removed]",
            "text/plain": [
              "<Figure size 432x288 with 1 Axes>"
            ]
          },
          "metadata": {
            "needs_background": "light"
          }
        }
      ]
    },
    {
      "cell_type": "markdown",
      "source": [
        "Now here we have both class with equal count\n",
        "\n",
        "14. Which interval variables have strong correlation?"
      ],
      "metadata": {
        "id": "FytN1OIco-t0"
      }
    },
    {
      "cell_type": "code",
      "source": [
        "temp = df[interval_feature].corr()\n",
        "temp = temp[(temp>=0.5) | (temp<=-0.5)].fillna(0)\n",
        "fig, ax = plt.subplots(figsize=(12,10))\n",
        "sns.heatmap(temp,linewidths=.5, cmap=\"YlGnBu\",ax=ax)\n",
        "plt.show()"
      ],
      "metadata": {
        "colab": {
          "base_uri": "https://localhost:8080/",
          "height": 648
        },
        "id": "HOgmZdlRn_2D",
        "outputId": "61e74d88-bb72-4f61-9280-534d9a905d3e"
      },
      "execution_count": 17,
      "outputs": [
        {
          "output_type": "display_data",
          "data": {
            "image/png": "[encoded data removed]",
            "text/plain": [
              "<Figure size 864x720 with 2 Axes>"
            ]
          },
          "metadata": {
            "needs_background": "light"
          }
        }
      ]
    },
    {
      "cell_type": "markdown",
      "source": [
        "interval Variable with high correlation(abs value more than 0.5)\n",
        "\n",
        "ps_reg_03 --> ps_reg_03 & ps_reg_03\n",
        "ps_reg_13 --> ps_reg_12"
      ],
      "metadata": {
        "id": "aS-DFVU5nIHc"
      }
    },
    {
      "cell_type": "markdown",
      "source": [
        "15. What's the level of correlation among ordinal features?¶\n"
      ],
      "metadata": {
        "id": "EPHu3ZEapT2I"
      }
    },
    {
      "cell_type": "code",
      "source": [
        "# cutoff = 0.3\n",
        "temp = df[cat_feature].corr()\n",
        "temp = temp[(temp>=0.3) | (temp<=-0.3)].fillna(0)\n",
        "fig, ax = plt.subplots(figsize=(10,10))\n",
        "sns.heatmap(temp,linewidths=.3, cmap=\"YlGnBu\",ax=ax)\n",
        "plt.show()"
      ],
      "metadata": {
        "colab": {
          "base_uri": "https://localhost:8080/",
          "height": 666
        },
        "id": "1JWkg_WgpO9i",
        "outputId": "efe41aba-d3fd-4eb6-e92f-62e7e21b8aaf"
      },
      "execution_count": 18,
      "outputs": [
        {
          "output_type": "display_data",
          "data": {
            "image/png": "[encoded data removed]",
            "text/plain": [
              "<Figure size 720x720 with 2 Axes>"
            ]
          },
          "metadata": {
            "needs_background": "light"
          }
        }
      ]
    },
    {
      "cell_type": "markdown",
      "source": [
        "ordinal Variable with high correlation(abs value more than 0.5)\n",
        "\n",
        "ps_car_03_cat --> ps_car_05_cat\n",
        "ps_car_05_cat --> ps_car_09_cat"
      ],
      "metadata": {
        "id": "KKNB45-kpYdS"
      }
    },
    {
      "cell_type": "markdown",
      "source": [
        "16. Implement Hot Encoding for categorical features\n",
        "NA\n",
        "\n",
        "No, nominal Features are available\n",
        "\n",
        "17. In nominal and interval features, which features are suitable for StandardScaler?\n",
        "Nominal featues are not suitable for StandardScaler\n",
        "\n",
        "We can apply StandardScaler in interval features"
      ],
      "metadata": {
        "id": "V7KOr_DspnSP"
      }
    },
    {
      "cell_type": "code",
      "source": [
        "clf=RandomForestClassifier(n_estimators=100)\n",
        "clf.fit(_X,_y)\n",
        "\n",
        "feature_imp = pd.Series(clf.feature_importances_,index=_X.columns).sort_values(ascending=False)\n",
        "imp = pd.DataFrame(feature_imp).reset_index()\n",
        "imp.columns = [\"Features\", 'Imp']\n",
        "\n",
        "imp['Imp'] = (imp['Imp']/max(imp['Imp']))*100\n",
        "col = imp[imp[\"Imp\"]>25]['Features'].tolist()"
      ],
      "metadata": {
        "id": "odcRTHDDpere"
      },
      "execution_count": 19,
      "outputs": []
    },
    {
      "cell_type": "code",
      "source": [
        "# Creating a bar plot\n",
        "plt.figure(figsize = (20,7))\n",
        "sns.barplot(x=_X.columns, y=imp.Imp)\n",
        "plt.xlabel('Feature Importance Score')\n",
        "plt.ylabel('Features')\n",
        "plt.title(\"Visualizing Important Features\")\n",
        "plt.show()"
      ],
      "metadata": {
        "colab": {
          "base_uri": "https://localhost:8080/",
          "height": 465
        },
        "id": "3HHPmzSDpxeN",
        "outputId": "7bbbe353-4ae5-4ef7-a3f1-8454bfe845c7"
      },
      "execution_count": 20,
      "outputs": [
        {
          "output_type": "display_data",
          "data": {
            "image/png": "[encoded data removed]",
            "text/plain": [
              "<Figure size 1440x504 with 1 Axes>"
            ]
          },
          "metadata": {
            "needs_background": "light"
          }
        }
      ]
    },
    {
      "cell_type": "code",
      "source": [
        "print(\"Top 10 ordered important features\")\n",
        "print(imp[:10].Features);"
      ],
      "metadata": {
        "colab": {
          "base_uri": "https://localhost:8080/"
        },
        "id": "KGTb0t6Zpypm",
        "outputId": "94bd9bd6-1f4a-4991-8803-67403a8b5ec6"
      },
      "execution_count": 21,
      "outputs": [
        {
          "output_type": "stream",
          "name": "stdout",
          "text": [
            "Top 10 ordered important features\n",
            "0        ps_car_13\n",
            "1        ps_reg_03\n",
            "2        ps_car_14\n",
            "3       ps_calc_10\n",
            "4       ps_calc_14\n",
            "5       ps_calc_11\n",
            "6    ps_car_11_cat\n",
            "7        ps_ind_15\n",
            "8        ps_ind_03\n",
            "9       ps_calc_01\n",
            "Name: Features, dtype: object\n"
          ]
        }
      ]
    },
    {
      "cell_type": "markdown",
      "source": [
        "18. Summarize the learnings of ED¶\n",
        "Data is higly imbalanced, target distribtion is:\n",
        "\n",
        "0 = 96.36 %\n",
        "\n",
        "1 = 3.64 %\n",
        "\n",
        "2 Most of the features are uncorrelated\n",
        "\n",
        "Top 10 ordered important features\n",
        "ps_car_13\n",
        "\n",
        "ps_reg_03\n",
        "\n",
        "ps_car_14\n",
        "\n",
        "ps_calc_10\n",
        "\n",
        "ps_calc_14\n",
        "\n",
        "ps_calc_11\n",
        "\n",
        "ps_car_11_cat\n",
        "\n",
        "ps_ind_15\n",
        "\n",
        "ps_ind_03\n",
        "\n",
        "ps_calc_01"
      ],
      "metadata": {
        "id": "mDQTvp6up3Eb"
      }
    },
    {
      "cell_type": "markdown",
      "source": [
        "Spliting data in feature & target¶"
      ],
      "metadata": {
        "id": "Be6lIIF17T2V"
      }
    },
    {
      "cell_type": "code",
      "source": [
        "x= df.drop(['target','id'], axis=1)\n",
        "y= df['target']"
      ],
      "metadata": {
        "id": "NcHGua9d7UlR"
      },
      "execution_count": 22,
      "outputs": []
    },
    {
      "cell_type": "markdown",
      "source": [
        "Spliting data in train test¶ 70:30\n",
        "\n"
      ],
      "metadata": {
        "id": "5fyMd6pT7by9"
      }
    },
    {
      "cell_type": "code",
      "source": [
        "from sklearn.model_selection import train_test_split as tts\n",
        "X_train,X_test,y_train,y_test = tts(x, y, test_size = 0.3,random_state = 1)\n"
      ],
      "metadata": {
        "id": "1GQVY7Ulp2Qu"
      },
      "execution_count": 23,
      "outputs": []
    },
    {
      "cell_type": "markdown",
      "source": [
        "Feature Scaling"
      ],
      "metadata": {
        "id": "QxHQC5uI7sz7"
      }
    },
    {
      "cell_type": "code",
      "source": [
        "from sklearn.preprocessing import StandardScaler\n",
        "scaler = StandardScaler()\n",
        "# Fit only to the training data\n",
        "scaler.fit(X_train)\n",
        "# Now apply the transformations to the data:\n",
        "X_train = scaler.transform(X_train)\n",
        "X_test = scaler.transform(X_test)"
      ],
      "metadata": {
        "id": "vCotGrGx7o33"
      },
      "execution_count": 24,
      "outputs": []
    },
    {
      "cell_type": "markdown",
      "source": [
        "Logistic Regression (Before Resampling)"
      ],
      "metadata": {
        "id": "vMZSHre57zic"
      }
    },
    {
      "cell_type": "code",
      "source": [
        "x_= df1.drop(['target','id'], axis=1)\n",
        "y_= df1['target']\n",
        "\n",
        "from sklearn.model_selection import train_test_split as tts\n",
        "X_Train,X_Test,y_Train,y_Test = tts(x_, y_, test_size = 0.3,random_state = 1)\n",
        "\n",
        "log_reg = LogisticRegression()\n",
        "log_reg.fit(X_Train, y_Train)\n",
        "\n",
        "# y_pred_train = log_reg.predict(X_Train)\n",
        "y_pred_logreg1 = log_reg.predict(X_Test)\n",
        "\n",
        "accuracy_result(y_Test, y_pred_logreg1)"
      ],
      "metadata": {
        "colab": {
          "base_uri": "https://localhost:8080/"
        },
        "id": "lo8d8kGZ736T",
        "outputId": "07d43026-e802-4b26-9c65-0c9b09a495ea"
      },
      "execution_count": 25,
      "outputs": [
        {
          "output_type": "stream",
          "name": "stdout",
          "text": [
            "\n",
            " CONFUSION MATRIX:\n",
            "  [[172094      0]\n",
            " [  6470      0]] \n",
            "\n",
            "FPR:  0.0\n",
            "TPR/ RECALL/ SENSTIVITY:  0.0\n",
            "PRECISION: 0.0\n",
            "SPECIFICITY:  1.0\n",
            "ACCURACY:  0.964\n",
            "ROC AUC:  0.5\n",
            "Cohens kappa:  0.0\n",
            "F1 score:  0.0\n",
            "\n",
            " CLASSIFICATION REPORT: \n",
            "               precision    recall  f1-score   support\n",
            "\n",
            "           0       0.96      1.00      0.98    172094\n",
            "           1       0.00      0.00      0.00      6470\n",
            "\n",
            "    accuracy                           0.96    178564\n",
            "   macro avg       0.48      0.50      0.49    178564\n",
            "weighted avg       0.93      0.96      0.95    178564\n",
            "\n"
          ]
        }
      ]
    },
    {
      "cell_type": "markdown",
      "source": [
        "Modeling Questions and their Answers\n",
        "Q. The Simple Logistic Regression Model seems to have high accuracy. Is that what we need at all? What is the problem with this model?\n",
        "Ans.: Simple Logistic Regression Model seems to have high accuracy because of highly imbalanced data. When we use accuracy, we assign equal cost to false positives and false negatives. When that data set is imbalanced - say it has 96% of instances in one class and only 4 % in the other - there is a great way to lower the cost. Predict that every instance belongs to the majority class, get accuracy of 96% which is very high accuracy.\n",
        "\n",
        "Accuracy = (correct classifications / number of classifications)\n",
        "\n",
        "Q. Why do you think f1-score is 0.0?\n",
        "Ans.: In this model, the Precision and Recall both are Zero due to which F1 score also become zero.\n",
        "\n",
        "Q. What is the precision and recall score for the model?\n",
        "Ans.: In this model, the Precision and Recall both are Zero"
      ],
      "metadata": {
        "id": "maPdK7Vh7-aF"
      }
    },
    {
      "cell_type": "markdown",
      "source": [
        "Logistic Regression (After Resampling)¶\n",
        "1. Fitting a Logistic Regression\n"
      ],
      "metadata": {
        "id": "OGw93oFR8Sw9"
      }
    },
    {
      "cell_type": "code",
      "source": [
        "log_reg = LogisticRegression()\n",
        "log_reg.fit(X_train, y_train)"
      ],
      "metadata": {
        "colab": {
          "base_uri": "https://localhost:8080/"
        },
        "id": "8w1RKHEA8XyL",
        "outputId": "c10730bc-e7c3-45e7-ba56-397a31c36408"
      },
      "execution_count": 26,
      "outputs": [
        {
          "output_type": "execute_result",
          "data": {
            "text/plain": [
              "LogisticRegression()"
            ]
          },
          "metadata": {},
          "execution_count": 26
        }
      ]
    },
    {
      "cell_type": "code",
      "source": [
        "## 1. Fitting a Logistic Regression\n",
        "log_reg = LogisticRegression()\n",
        "log_reg.fit(X_train, y_train)\n",
        "\n",
        "## 2. Predicting on Train and test data\n",
        "\n",
        "y_pred_train = log_reg.predict(X_train)\n",
        "y_pred_logreg2 = log_reg.predict(X_test)\n",
        "\n",
        "## 3. Using function for evaluating the model output\n",
        "\n",
        "accuracy_result(y_test, y_pred_logreg2)"
      ],
      "metadata": {
        "colab": {
          "base_uri": "https://localhost:8080/"
        },
        "id": "dVlXJGKg8iTV",
        "outputId": "bfe7793e-3584-4076-bb69-ebed9a2b8ed5"
      },
      "execution_count": 27,
      "outputs": [
        {
          "output_type": "stream",
          "name": "stdout",
          "text": [
            "\n",
            " CONFUSION MATRIX:\n",
            "  [[107904  64389]\n",
            " [ 76992  94826]] \n",
            "\n",
            "FPR:  0.374\n",
            "TPR/ RECALL/ SENSTIVITY:  0.552\n",
            "PRECISION: 0.596\n",
            "SPECIFICITY:  0.626\n",
            "ACCURACY:  0.589\n",
            "ROC AUC:  0.589\n",
            "Cohens kappa:  0.178\n",
            "F1 score:  0.573\n",
            "\n",
            " CLASSIFICATION REPORT: \n",
            "               precision    recall  f1-score   support\n",
            "\n",
            "           0       0.58      0.63      0.60    172293\n",
            "           1       0.60      0.55      0.57    171818\n",
            "\n",
            "    accuracy                           0.59    344111\n",
            "   macro avg       0.59      0.59      0.59    344111\n",
            "weighted avg       0.59      0.59      0.59    344111\n",
            "\n"
          ]
        }
      ]
    },
    {
      "cell_type": "markdown",
      "source": [
        "Q. What is the accuracy score and f1-score for the improved Logistic Regression model?\n",
        "ACCURACY:  0.589\n",
        "F1 score:  0.573\n",
        "\n",
        "Q. Why do you think f1-score has improved?\n",
        "\n",
        "Ans.:\n",
        "\n",
        "Logistic regression model (Before Resampling)\n",
        "\n",
        "Accurecy = 0.964\n",
        "F1 score = 0.0\n",
        "Logistic regression model (After Resampling)\n",
        "\n",
        "Accurecy = 0.589\n",
        "F1 score = 0.573\n",
        "In above given data after resampling the F1 score is 0.573 which is improved F1 score in compare to previous score and it shows improved logistic regression model.\n",
        "\n",
        "###Support Vector Classifier"
      ],
      "metadata": {
        "id": "VLEPXBH-8kza"
      }
    },
    {
      "cell_type": "code",
      "source": [
        "x_tr=X_train[:10000,:]\n",
        "y_tr=y_train[:10000]\n",
        "\n",
        "## 1. svm Classifier with linear kernel\n",
        "\n",
        "#Create a svm Classifier\n",
        "clf = svm.SVC(kernel='linear')\n",
        "# FIT SVC ON TRAINING DATA\n",
        "clf.fit(x_tr, y_tr)\n",
        "\n",
        "## 2. Predicting on Train and test data\n",
        "\n",
        "# y_pred_train = clf.predict(X_train)\n",
        "y_pred_svc = clf.predict(X_test)\n",
        "\n",
        "#  model output\n",
        "accuracy_result(y_test, y_pred_svc)"
      ],
      "metadata": {
        "colab": {
          "base_uri": "https://localhost:8080/"
        },
        "id": "NT7GASGb8khM",
        "outputId": "c292d490-e943-4aee-823e-a74fa2fac320"
      },
      "execution_count": 28,
      "outputs": [
        {
          "output_type": "stream",
          "name": "stdout",
          "text": [
            "\n",
            " CONFUSION MATRIX:\n",
            "  [[111418  60875]\n",
            " [ 81572  90246]] \n",
            "\n",
            "FPR:  0.353\n",
            "TPR/ RECALL/ SENSTIVITY:  0.525\n",
            "PRECISION: 0.597\n",
            "SPECIFICITY:  0.647\n",
            "ACCURACY:  0.586\n",
            "ROC AUC:  0.586\n",
            "Cohens kappa:  0.172\n",
            "F1 score:  0.559\n",
            "\n",
            " CLASSIFICATION REPORT: \n",
            "               precision    recall  f1-score   support\n",
            "\n",
            "           0       0.58      0.65      0.61    172293\n",
            "           1       0.60      0.53      0.56    171818\n",
            "\n",
            "    accuracy                           0.59    344111\n",
            "   macro avg       0.59      0.59      0.58    344111\n",
            "weighted avg       0.59      0.59      0.58    344111\n",
            "\n"
          ]
        }
      ]
    },
    {
      "cell_type": "markdown",
      "source": [
        "Q.: For model LinearSVC play with parameters – dual, max_iter and see if there is any improvement.\n",
        "\n",
        "Ans.: Not any Significance Improvement\n",
        "\n",
        "Q.: SVC with Imbalance Check & Feature Optimization & only 100K Records → is there improvement in scores?\n",
        "\n",
        "Ans.: I fitted the SVC model on 10K dataset because on 100K dataset not able to run the model.\n",
        "\n",
        "####XGBoost Classifier"
      ],
      "metadata": {
        "id": "z6Srv40K8vUs"
      }
    },
    {
      "cell_type": "code",
      "source": [
        "## 1. Initializing XGboost Classifier\n",
        "\n",
        "xg_cls = XGBClassifier(objective='binary:logistic', colsample_bytree = 0.3, learning_rate = 0.1,\n",
        "                max_depth = 50, alpha = 10, n_estimators = 100)\n",
        "xg_cls.fit(X_train, y_train)\n",
        "\n",
        "## 2. Predicting on Train and test data\n",
        "\n",
        "# y_pred_train = xg_cls.predict(X_train)\n",
        "y_pred_xgb = xg_cls.predict(X_test)\n",
        "\n",
        "# function for evaluating the model output\n",
        "accuracy_result(y_test, y_pred_xgb)"
      ],
      "metadata": {
        "colab": {
          "base_uri": "https://localhost:8080/"
        },
        "id": "RWB178618zSB",
        "outputId": "dc5c77bb-d6ad-4bbb-fa65-12ee4bf37cf8"
      },
      "execution_count": 29,
      "outputs": [
        {
          "output_type": "stream",
          "name": "stdout",
          "text": [
            "\n",
            " CONFUSION MATRIX:\n",
            "  [[172287      6]\n",
            " [     0 171818]] \n",
            "\n",
            "FPR:  0.0\n",
            "TPR/ RECALL/ SENSTIVITY:  1.0\n",
            "PRECISION: 1.0\n",
            "SPECIFICITY:  1.0\n",
            "ACCURACY:  1.0\n",
            "ROC AUC:  1.0\n",
            "Cohens kappa:  1.0\n",
            "F1 score:  1.0\n",
            "\n",
            " CLASSIFICATION REPORT: \n",
            "               precision    recall  f1-score   support\n",
            "\n",
            "           0       1.00      1.00      1.00    172293\n",
            "           1       1.00      1.00      1.00    171818\n",
            "\n",
            "    accuracy                           1.00    344111\n",
            "   macro avg       1.00      1.00      1.00    344111\n",
            "weighted avg       1.00      1.00      1.00    344111\n",
            "\n"
          ]
        }
      ]
    },
    {
      "cell_type": "markdown",
      "source": [
        "Q. XGBoost is one the better classifiers -- but still f1-score is very low. What could be the reason?\n",
        "\n",
        "In my model ,I'm getting f1 score near to 1, that indicate a best fitted model.\n",
        "\n",
        "Q. What is the increase in number of features after one-hot encoding of the data?\n",
        "\n",
        "Ans.: There is no need of One-hot encoding because it has been previously done.\n",
        "\n",
        "Q. Is there any improvement in scores after encoding?\n",
        "\n",
        "Ans.: No\n",
        "\n",
        "Q. If not missing a positive sample is the priority which model is best so far?\n",
        "\n",
        "Ans.: XGBoost model is performing best.Count of missing positive sample is 6 only.\n",
        "\n"
      ],
      "metadata": {
        "id": "Cxk-v04u86er"
      }
    },
    {
      "cell_type": "markdown",
      "source": [
        "Q. If not marking negative sample as positive is top priority, which model is best so far?\n",
        "\n",
        "Ans.: XGBoost model is performing best. No misclassification for negative sample as positive.\n",
        "\n"
      ],
      "metadata": {
        "id": "Pjmwq2x89Je7"
      }
    },
    {
      "cell_type": "markdown",
      "source": [
        "Adaboost classifier¶"
      ],
      "metadata": {
        "id": "crWNdQjU9f4Y"
      }
    },
    {
      "cell_type": "code",
      "source": [
        "# Create adaboost classifer object\n",
        "adaBoost = AdaBoostClassifier(n_estimators=50, learning_rate=1, random_state=0)\n",
        "\n",
        "# Train Adaboost Classifer\n",
        "model1 = adaBoost.fit(X_train, y_train)\n",
        "\n",
        "\n",
        "#Predict the response for test dataset\n",
        "y_pred_ada = model1.predict(X_test)\n",
        "\n",
        "accuracy_result(y_test, y_pred_ada)"
      ],
      "metadata": {
        "colab": {
          "base_uri": "https://localhost:8080/"
        },
        "id": "wkV--miC9JH_",
        "outputId": "480811fc-2c62-4fcb-b1ca-d27e4bb8c7ff"
      },
      "execution_count": 31,
      "outputs": [
        {
          "output_type": "stream",
          "name": "stdout",
          "text": [
            "\n",
            " CONFUSION MATRIX:\n",
            "  [[106594  65699]\n",
            " [ 72948  98870]] \n",
            "\n",
            "FPR:  0.381\n",
            "TPR/ RECALL/ SENSTIVITY:  0.575\n",
            "PRECISION: 0.601\n",
            "SPECIFICITY:  0.619\n",
            "ACCURACY:  0.597\n",
            "ROC AUC:  0.597\n",
            "Cohens kappa:  0.194\n",
            "F1 score:  0.588\n",
            "\n",
            " CLASSIFICATION REPORT: \n",
            "               precision    recall  f1-score   support\n",
            "\n",
            "           0       0.59      0.62      0.61    172293\n",
            "           1       0.60      0.58      0.59    171818\n",
            "\n",
            "    accuracy                           0.60    344111\n",
            "   macro avg       0.60      0.60      0.60    344111\n",
            "weighted avg       0.60      0.60      0.60    344111\n",
            "\n"
          ]
        }
      ]
    },
    {
      "cell_type": "markdown",
      "source": [
        "Q.: Do you think using AdaBoost can give any significant improvement over XGBoost?\n",
        "\n",
        "Ans.: No improvement in AdaBoost model result because In my case XGBoost model giving much more better result (Accuracy and F1 score) in compare to AdaBoost model.\n",
        "\n",
        "MLP Classifier"
      ],
      "metadata": {
        "id": "ItCcFPnk9pId"
      }
    },
    {
      "cell_type": "code",
      "source": [
        "# Training the model\n",
        "mlp = MLPClassifier(hidden_layer_sizes=(10, 10, 10),activation='logistic', max_iter=200)\n",
        "mlp.fit(X_train, y_train.values.ravel())\n",
        "\n",
        "# Prediction on x_test\n",
        "y_predic = mlp.predict(X_test)\n",
        "accuracy_result(y_test,y_predic)"
      ],
      "metadata": {
        "colab": {
          "base_uri": "https://localhost:8080/"
        },
        "id": "UGZEJh_o9DyQ",
        "outputId": "739d663a-c82e-4740-98b5-2bb26e9e4e13"
      },
      "execution_count": 32,
      "outputs": [
        {
          "output_type": "stream",
          "name": "stdout",
          "text": [
            "\n",
            " CONFUSION MATRIX:\n",
            "  [[ 94668  77625]\n",
            " [ 58287 113531]] \n",
            "\n",
            "FPR:  0.451\n",
            "TPR/ RECALL/ SENSTIVITY:  0.661\n",
            "PRECISION: 0.594\n",
            "SPECIFICITY:  0.549\n",
            "ACCURACY:  0.605\n",
            "ROC AUC:  0.605\n",
            "Cohens kappa:  0.21\n",
            "F1 score:  0.626\n",
            "\n",
            " CLASSIFICATION REPORT: \n",
            "               precision    recall  f1-score   support\n",
            "\n",
            "           0       0.62      0.55      0.58    172293\n",
            "           1       0.59      0.66      0.63    171818\n",
            "\n",
            "    accuracy                           0.61    344111\n",
            "   macro avg       0.61      0.61      0.60    344111\n",
            "weighted avg       0.61      0.61      0.60    344111\n",
            "\n"
          ]
        }
      ]
    },
    {
      "cell_type": "markdown",
      "source": [
        "Q.: MLPClassifier is the neural network we are trying. But how to choose the right no. of layers and size?\n",
        "\n",
        "Q.: At what layer size we get the best f1-score?\n",
        "\n",
        "Ans.:\n",
        "\n",
        "In Generally, you can't analytically calculate the number of layers or the number of nodes to use per layer in an ANN to address a specific real-world predictive modeling problem, But there are many methods for determining the correct number of neurons to use in the hidden layers, such as the following:\n",
        "\n",
        "The no. of hidden neurons should be between the size of the input layer and the size of the output layer.\n",
        "The no. of hidden neurons should be 2/3 the size of the input layer, plus the size of the output layer.\n",
        "The no. of hidden neurons should be less than twice the size of the input layer.\n",
        "Final Result Comparison\n"
      ],
      "metadata": {
        "id": "6VS_RzRE9uiJ"
      }
    },
    {
      "cell_type": "code",
      "source": [
        "data = {'Log_Reg(Before Resamp)':[np.round(f1_score(y_Test, y_pred_logreg1),3), np.round(metrics.accuracy_score(y_Test, y_pred_logreg1),3)],\n",
        "        'Log_Reg(After Resamp)':[np.round(f1_score(y_test, y_pred_logreg2),3), np.round(metrics.accuracy_score(y_test, y_pred_logreg2),3)],\n",
        "        'SVC':[np.round(f1_score(y_test, y_pred_svc),3), np.round(metrics.accuracy_score(y_test, y_pred_svc),3)],\n",
        "        'XGBoost':[np.round(f1_score(y_test, y_pred_xgb),3), np.round(metrics.accuracy_score(y_test, y_pred_xgb),3)],\n",
        "        'AdaBoost':[np.round(f1_score(y_test, y_pred_ada),3), np.round(metrics.accuracy_score(y_test, y_pred_ada),3)],\n",
        "        'MLP Classifier':[np.round(f1_score(y_test, y_predic),3), np.round(metrics.accuracy_score(y_test, y_predic),3)]}\n",
        "\n",
        "df_result=pd.DataFrame(data, index = ['F1_score', 'Accuracy']).T\n",
        "df_result\n"
      ],
      "metadata": {
        "colab": {
          "base_uri": "https://localhost:8080/",
          "height": 236
        },
        "id": "996K6Of99z0m",
        "outputId": "31611ea9-bd47-455d-a633-8b3b14c5f859"
      },
      "execution_count": 33,
      "outputs": [
        {
          "output_type": "execute_result",
          "data": {
            "text/html": [
              "\n",
              "  <div id=\"df-405650c3-ba2d-4fa7-8c8a-056e597a9e5b\">\n",
              "    <div class=\"colab-df-container\">\n",
              "      <div>\n",
              "<style scoped>\n",
              "    .dataframe tbody tr th:only-of-type {\n",
              "        vertical-align: middle;\n",
              "    }\n",
              "\n",
              "    .dataframe tbody tr th {\n",
              "        vertical-align: top;\n",
              "    }\n",
              "\n",
              "    .dataframe thead th {\n",
              "        text-align: right;\n",
              "    }\n",
              "</style>\n",
              "<table border=\"1\" class=\"dataframe\">\n",
              "  <thead>\n",
              "    <tr style=\"text-align: right;\">\n",
              "      <th></th>\n",
              "      <th>F1_score</th>\n",
              "      <th>Accuracy</th>\n",
              "    </tr>\n",
              "  </thead>\n",
              "  <tbody>\n",
              "    <tr>\n",
              "      <th>Log_Reg(Before Resamp)</th>\n",
              "      <td>0.00</td>\n",
              "      <td>0.96</td>\n",
              "    </tr>\n",
              "    <tr>\n",
              "      <th>Log_Reg(After Resamp)</th>\n",
              "      <td>0.57</td>\n",
              "      <td>0.59</td>\n",
              "    </tr>\n",
              "    <tr>\n",
              "      <th>SVC</th>\n",
              "      <td>0.56</td>\n",
              "      <td>0.59</td>\n",
              "    </tr>\n",
              "    <tr>\n",
              "      <th>XGBoost</th>\n",
              "      <td>1.00</td>\n",
              "      <td>1.00</td>\n",
              "    </tr>\n",
              "    <tr>\n",
              "      <th>AdaBoost</th>\n",
              "      <td>0.59</td>\n",
              "      <td>0.60</td>\n",
              "    </tr>\n",
              "    <tr>\n",
              "      <th>MLP Classifier</th>\n",
              "      <td>0.63</td>\n",
              "      <td>0.60</td>\n",
              "    </tr>\n",
              "  </tbody>\n",
              "</table>\n",
              "</div>\n",
              "      <button class=\"colab-df-convert\" onclick=\"convertToInteractive('df-405650c3-ba2d-4fa7-8c8a-056e597a9e5b')\"\n",
              "              title=\"Convert this dataframe to an interactive table.\"\n",
              "              style=\"display:none;\">\n",
              "        \n",
              "  <svg xmlns=\"http://www.w3.org/2000/svg\" height=\"24px\"viewBox=\"0 0 24 24\"\n",
              "       width=\"24px\">\n",
              "    <path d=\"M0 0h24v24H0V0z\" fill=\"none\"/>\n",
              "    <path d=\"M18.56 5.44l.94 2.06.94-2.06 2.06-.94-2.06-.94-.94-2.06-.94 2.06-2.06.94zm-11 1L8.5 8.5l.94-2.06 2.06-.94-2.06-.94L8.5 2.5l-.94 2.06-2.06.94zm10 10l.94 2.06.94-2.06 2.06-.94-2.06-.94-.94-2.06-.94 2.06-2.06.94z\"/><path d=\"M17.41 7.96l-1.37-1.37c-.4-.4-.92-.59-1.43-.59-.52 0-1.04.2-1.43.59L10.3 9.45l-7.72 7.72c-.78.78-.78 2.05 0 2.83L4 21.41c.39.39.9.59 1.41.59.51 0 1.02-.2 1.41-.59l7.78-7.78 2.81-2.81c.8-.78.8-2.07 0-2.86zM5.41 20L4 18.59l7.72-7.72 1.47 1.35L5.41 20z\"/>\n",
              "  </svg>\n",
              "      </button>\n",
              "      \n",
              "  <style>\n",
              "    .colab-df-container {\n",
              "      display:flex;\n",
              "      flex-wrap:wrap;\n",
              "      gap: 12px;\n",
              "    }\n",
              "\n",
              "    .colab-df-convert {\n",
              "      background-color: #E8F0FE;\n",
              "      border: none;\n",
              "      border-radius: 50%;\n",
              "      cursor: pointer;\n",
              "      display: none;\n",
              "      fill: #1967D2;\n",
              "      height: 32px;\n",
              "      padding: 0 0 0 0;\n",
              "      width: 32px;\n",
              "    }\n",
              "\n",
              "    .colab-df-convert:hover {\n",
              "      background-color: #E2EBFA;\n",
              "      box-shadow: 0px 1px 2px rgba(60, 64, 67, 0.3), 0px 1px 3px 1px rgba(60, 64, 67, 0.15);\n",
              "      fill: #174EA6;\n",
              "    }\n",
              "\n",
              "    [theme=dark] .colab-df-convert {\n",
              "      background-color: #3B4455;\n",
              "      fill: #D2E3FC;\n",
              "    }\n",
              "\n",
              "    [theme=dark] .colab-df-convert:hover {\n",
              "      background-color: #434B5C;\n",
              "      box-shadow: 0px 1px 3px 1px rgba(0, 0, 0, 0.15);\n",
              "      filter: drop-shadow(0px 1px 2px rgba(0, 0, 0, 0.3));\n",
              "      fill: #FFFFFF;\n",
              "    }\n",
              "  </style>\n",
              "\n",
              "      <script>\n",
              "        const buttonEl =\n",
              "          document.querySelector('#df-405650c3-ba2d-4fa7-8c8a-056e597a9e5b button.colab-df-convert');\n",
              "        buttonEl.style.display =\n",
              "          google.colab.kernel.accessAllowed ? 'block' : 'none';\n",
              "\n",
              "        async function convertToInteractive(key) {\n",
              "          const element = document.querySelector('#df-405650c3-ba2d-4fa7-8c8a-056e597a9e5b');\n",
              "          const dataTable =\n",
              "            await google.colab.kernel.invokeFunction('convertToInteractive',\n",
              "                                                     [key], {});\n",
              "          if (!dataTable) return;\n",
              "\n",
              "          const docLinkHtml = 'Like what you see? Visit the ' +\n",
              "            '<a target=\"_blank\" href=https://colab.research.google.com/notebooks/data_table.ipynb>data table notebook</a>'\n",
              "            + ' to learn more about interactive tables.';\n",
              "          element.innerHTML = '';\n",
              "          dataTable['output_type'] = 'display_data';\n",
              "          await google.colab.output.renderOutput(dataTable, element);\n",
              "          const docLink = document.createElement('div');\n",
              "          docLink.innerHTML = docLinkHtml;\n",
              "          element.appendChild(docLink);\n",
              "        }\n",
              "      </script>\n",
              "    </div>\n",
              "  </div>\n",
              "  "
            ],
            "text/plain": [
              "                                   F1_score             Accuracy\n",
              "Log_Reg(Before Resamp)                 0.00                 0.96\n",
              "Log_Reg(After Resamp)                  0.57                 0.59\n",
              "SVC                                    0.56                 0.59\n",
              "XGBoost                                1.00                 1.00\n",
              "AdaBoost                               0.59                 0.60\n",
              "MLP Classifier                         0.63                 0.60"
            ]
          },
          "metadata": {},
          "execution_count": 33
        }
      ]
    },
    {
      "cell_type": "markdown",
      "source": [
        "\n",
        "After comparing the F1- score and Accuracy of all used Machine Learning models, we found that XGBoost model is best fitted model with high performance and giving best results among all other models."
      ],
      "metadata": {
        "id": "mhg6pkzS-RwX"
      }
    }
  ]
}